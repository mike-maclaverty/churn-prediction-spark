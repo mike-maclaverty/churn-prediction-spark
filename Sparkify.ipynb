{
 "cells": [
  {
   "cell_type": "markdown",
   "metadata": {
    "collapsed": false
   },
   "source": [
    "# Problem Definition\n",
    "### Sparkify Churn Prediction"
   ]
  },
  {
   "cell_type": "markdown",
   "metadata": {
    "collapsed": false
   },
   "source": [
    "We want to create a churn prediction classifier.\n",
    "\n",
    "We will use data from a fictive company called Sparkify, a music streaming company. The dataset contains all kinds of events created by the users who interacted with\n",
    "the platform. Such as when they logged in, when they are listening to music, and when they are unsubscribing from the platform.\n",
    "\n",
    "The goal of this notebook is to leverage this data to create a model that can forecast customer churn. Therefore, we can understand better why the users are leaving the platform\n",
    "and we can adapt and improve their overall experience."
   ]
  },
  {
   "cell_type": "markdown",
   "metadata": {
    "collapsed": false
   },
   "source": [
    "# Import Libraries"
   ]
  },
  {
   "cell_type": "code",
   "execution_count": 7,
   "metadata": {},
   "outputs": [],
   "source": [
    "import findspark\n",
    "findspark.init()\n",
    "\n",
    "import numpy as np\n",
    "import matplotlib.pyplot as plt\n",
    "import seaborn as sns\n",
    "\n",
    "from pyspark.sql import SparkSession\n",
    "from pyspark.sql import functions as F\n",
    "from pyspark.sql.window import Window\n",
    "\n",
    "from pyspark.ml import Pipeline\n",
    "from pyspark.ml.classification import LogisticRegression, GBTClassifier, NaiveBayes\n",
    "from pyspark.ml.evaluation import MulticlassClassificationEvaluator\n",
    "from pyspark.ml.feature import VectorAssembler, StandardScaler\n",
    "from pyspark.ml.tuning import ParamGridBuilder, CrossValidator\n",
    "from pyspark.sql.types import LongType"
   ]
  },
  {
   "cell_type": "markdown",
   "metadata": {
    "collapsed": false
   },
   "source": [
    "# Define Spark Session"
   ]
  },
  {
   "cell_type": "code",
   "execution_count": 65,
   "metadata": {},
   "outputs": [
    {
     "name": "stderr",
     "output_type": "stream",
     "text": [
      "24/05/27 17:50:59 WARN SparkSession: Using an existing Spark session; only runtime SQL configurations will take effect.\n"
     ]
    }
   ],
   "source": [
    "spark = SparkSession.\\\n",
    "    builder.\\\n",
    "    appName(\"Sparkify Churn Prediction\").\\\n",
    "    config(\"spark.jars.packages\", \"ml.dmlc:xgboost4j-spark:1.5.2\").\\\n",
    "    getOrCreate()"
   ]
  },
  {
   "cell_type": "markdown",
   "metadata": {},
   "source": [
    "# Load and Clean Dataset"
   ]
  },
  {
   "cell_type": "code",
   "execution_count": 11,
   "metadata": {},
   "outputs": [
    {
     "name": "stderr",
     "output_type": "stream",
     "text": [
      "                                                                                \r"
     ]
    },
    {
     "name": "stdout",
     "output_type": "stream",
     "text": [
      "root\n",
      " |-- artist: string (nullable = true)\n",
      " |-- auth: string (nullable = true)\n",
      " |-- firstName: string (nullable = true)\n",
      " |-- gender: string (nullable = true)\n",
      " |-- itemInSession: long (nullable = true)\n",
      " |-- lastName: string (nullable = true)\n",
      " |-- length: double (nullable = true)\n",
      " |-- level: string (nullable = true)\n",
      " |-- location: string (nullable = true)\n",
      " |-- method: string (nullable = true)\n",
      " |-- page: string (nullable = true)\n",
      " |-- registration: long (nullable = true)\n",
      " |-- sessionId: long (nullable = true)\n",
      " |-- song: string (nullable = true)\n",
      " |-- status: long (nullable = true)\n",
      " |-- ts: long (nullable = true)\n",
      " |-- userAgent: string (nullable = true)\n",
      " |-- userId: string (nullable = true)\n",
      "\n"
     ]
    }
   ],
   "source": [
    "EVENT_DATA_LINK = \"mini_sparkify_event_data.json\"\n",
    "df = spark.read.json(EVENT_DATA_LINK)\n",
    "df.persist()\n",
    "\n",
    "df.printSchema()"
   ]
  },
  {
   "cell_type": "markdown",
   "metadata": {},
   "source": [
    "We can observe that all the columns are `strings` or `longs`."
   ]
  },
  {
   "cell_type": "code",
   "execution_count": 12,
   "metadata": {},
   "outputs": [
    {
     "name": "stderr",
     "output_type": "stream",
     "text": [
      "[Stage 1:==>                                                      (1 + 23) / 24]\r"
     ]
    },
    {
     "name": "stdout",
     "output_type": "stream",
     "text": [
      "+--------------------+---------+---------+------+-------------+--------+---------+-----+--------------------+------+---------------+-------------+---------+--------------------+------+-------------+--------------------+------+\n",
      "|              artist|     auth|firstName|gender|itemInSession|lastName|   length|level|            location|method|           page| registration|sessionId|                song|status|           ts|           userAgent|userId|\n",
      "+--------------------+---------+---------+------+-------------+--------+---------+-----+--------------------+------+---------------+-------------+---------+--------------------+------+-------------+--------------------+------+\n",
      "|      Martha Tilston|Logged In|    Colin|     M|           50| Freeman|277.89016| paid|     Bakersfield, CA|   PUT|       NextSong|1538173362000|       29|           Rockpools|   200|1538352117000|Mozilla/5.0 (Wind...|    30|\n",
      "|    Five Iron Frenzy|Logged In|    Micah|     M|           79|    Long|236.09424| free|Boston-Cambridge-...|   PUT|       NextSong|1538331630000|        8|              Canada|   200|1538352180000|\"Mozilla/5.0 (Win...|     9|\n",
      "|        Adam Lambert|Logged In|    Colin|     M|           51| Freeman| 282.8273| paid|     Bakersfield, CA|   PUT|       NextSong|1538173362000|       29|   Time For Miracles|   200|1538352394000|Mozilla/5.0 (Wind...|    30|\n",
      "|              Enigma|Logged In|    Micah|     M|           80|    Long|262.71302| free|Boston-Cambridge-...|   PUT|       NextSong|1538331630000|        8|Knocking On Forbi...|   200|1538352416000|\"Mozilla/5.0 (Win...|     9|\n",
      "|           Daft Punk|Logged In|    Colin|     M|           52| Freeman|223.60771| paid|     Bakersfield, CA|   PUT|       NextSong|1538173362000|       29|Harder Better Fas...|   200|1538352676000|Mozilla/5.0 (Wind...|    30|\n",
      "|The All-American ...|Logged In|    Micah|     M|           81|    Long|208.29995| free|Boston-Cambridge-...|   PUT|       NextSong|1538331630000|        8|      Don't Leave Me|   200|1538352678000|\"Mozilla/5.0 (Win...|     9|\n",
      "|The Velvet Underg...|Logged In|    Micah|     M|           82|    Long|260.46649| free|Boston-Cambridge-...|   PUT|       NextSong|1538331630000|        8|         Run Run Run|   200|1538352886000|\"Mozilla/5.0 (Win...|     9|\n",
      "|        Starflyer 59|Logged In|    Colin|     M|           53| Freeman|185.44281| paid|     Bakersfield, CA|   PUT|       NextSong|1538173362000|       29|Passengers (Old A...|   200|1538352899000|Mozilla/5.0 (Wind...|    30|\n",
      "|                NULL|Logged In|    Colin|     M|           54| Freeman|     NULL| paid|     Bakersfield, CA|   PUT|Add to Playlist|1538173362000|       29|                NULL|   200|1538352905000|Mozilla/5.0 (Wind...|    30|\n",
      "|            Frumpies|Logged In|    Colin|     M|           55| Freeman|134.47791| paid|     Bakersfield, CA|   PUT|       NextSong|1538173362000|       29|          Fuck Kitty|   200|1538353084000|Mozilla/5.0 (Wind...|    30|\n",
      "+--------------------+---------+---------+------+-------------+--------+---------+-----+--------------------+------+---------------+-------------+---------+--------------------+------+-------------+--------------------+------+\n",
      "only showing top 10 rows\n",
      "\n"
     ]
    },
    {
     "name": "stderr",
     "output_type": "stream",
     "text": [
      "                                                                                \r"
     ]
    }
   ],
   "source": [
    "df.show(n=10)"
   ]
  },
  {
   "cell_type": "markdown",
   "metadata": {},
   "source": [
    "## Check for Empty Values"
   ]
  },
  {
   "cell_type": "markdown",
   "metadata": {},
   "source": [
    "### Check for NaNs"
   ]
  },
  {
   "cell_type": "code",
   "execution_count": 13,
   "metadata": {},
   "outputs": [
    {
     "name": "stdout",
     "output_type": "stream",
     "text": [
      "+------+----+---------+------+-------------+--------+------+-----+--------+------+----+------------+---------+----+------+---+---------+------+\n",
      "|artist|auth|firstName|gender|itemInSession|lastName|length|level|location|method|page|registration|sessionId|song|status| ts|userAgent|userId|\n",
      "+------+----+---------+------+-------------+--------+------+-----+--------+------+----+------------+---------+----+------+---+---------+------+\n",
      "|     0|   0|        0|     0|            0|       0|     0|    0|       0|     0|   0|           0|        0|   0|     0|  0|        0|     0|\n",
      "+------+----+---------+------+-------------+--------+------+-----+--------+------+----+------------+---------+----+------+---+---------+------+\n",
      "\n"
     ]
    },
    {
     "name": "stderr",
     "output_type": "stream",
     "text": [
      "                                                                                \r"
     ]
    }
   ],
   "source": [
    "df.select([F.count(F.when(F.isnan(c), c)).alias(c) for c in df.columns]).show()"
   ]
  },
  {
   "cell_type": "markdown",
   "metadata": {},
   "source": [
    "There are no `nans` within the data."
   ]
  },
  {
   "cell_type": "markdown",
   "metadata": {},
   "source": [
    "### Check for Nones"
   ]
  },
  {
   "cell_type": "code",
   "execution_count": 14,
   "metadata": {},
   "outputs": [
    {
     "name": "stdout",
     "output_type": "stream",
     "text": [
      "+------+----+---------+------+-------------+--------+------+-----+--------+------+----+------------+---------+-----+------+---+---------+------+\n",
      "|artist|auth|firstName|gender|itemInSession|lastName|length|level|location|method|page|registration|sessionId| song|status| ts|userAgent|userId|\n",
      "+------+----+---------+------+-------------+--------+------+-----+--------+------+----+------------+---------+-----+------+---+---------+------+\n",
      "| 58392|   0|     8346|  8346|            0|    8346| 58392|    0|    8346|     0|   0|        8346|        0|58392|     0|  0|     8346|     0|\n",
      "+------+----+---------+------+-------------+--------+------+-----+--------+------+----+------------+---------+-----+------+---+---------+------+\n",
      "\n"
     ]
    }
   ],
   "source": [
    "df.select([F.count(F.when(F.isnull(c), c)).alias(c) for c in df.columns]).show()"
   ]
  },
  {
   "cell_type": "markdown",
   "metadata": {},
   "source": [
    "Instead of `nans` the missing entries are filled with `Nones`."
   ]
  },
  {
   "cell_type": "markdown",
   "metadata": {},
   "source": [
    "### Check for Empty Strings"
   ]
  },
  {
   "cell_type": "code",
   "execution_count": 15,
   "metadata": {},
   "outputs": [
    {
     "name": "stdout",
     "output_type": "stream",
     "text": [
      "+------+----+---------+------+-------------+--------+------+-----+--------+------+----+------------+---------+----+------+---+---------+------+\n",
      "|artist|auth|firstName|gender|itemInSession|lastName|length|level|location|method|page|registration|sessionId|song|status| ts|userAgent|userId|\n",
      "+------+----+---------+------+-------------+--------+------+-----+--------+------+----+------------+---------+----+------+---+---------+------+\n",
      "|     0|   0|        0|     0|            0|       0|     0|    0|       0|     0|   0|           0|        0|   0|     0|  0|        0|  8346|\n",
      "+------+----+---------+------+-------------+--------+------+-----+--------+------+----+------------+---------+----+------+---+---------+------+\n",
      "\n"
     ]
    }
   ],
   "source": [
    "df.select([F.count(F.when(F.col(c) == \"\", c)).alias(c) for c in df.columns]).show()"
   ]
  },
  {
   "cell_type": "code",
   "execution_count": 16,
   "metadata": {},
   "outputs": [
    {
     "name": "stdout",
     "output_type": "stream",
     "text": [
      "+------+----+---------+------+-------------+--------+------+-----+--------+------+----+------------+---------+-----+------+---+---------+------+\n",
      "|artist|auth|firstName|gender|itemInSession|lastName|length|level|location|method|page|registration|sessionId| song|status| ts|userAgent|userId|\n",
      "+------+----+---------+------+-------------+--------+------+-----+--------+------+----+------------+---------+-----+------+---+---------+------+\n",
      "| 50046|   0|        0|     0|            0|       0| 50046|    0|       0|     0|   0|           0|        0|50046|     0|  0|        0|     0|\n",
      "+------+----+---------+------+-------------+--------+------+-----+--------+------+----+------------+---------+-----+------+---+---------+------+\n",
      "\n"
     ]
    }
   ],
   "source": [
    "df.filter(F.col(\"userId\") != \"\").select([F.count(F.when(F.isnull(c), c)).alias(c) for c in df.columns]).show()"
   ]
  },
  {
   "cell_type": "code",
   "execution_count": 17,
   "metadata": {},
   "outputs": [
    {
     "name": "stdout",
     "output_type": "stream",
     "text": [
      "+---------+------+\n",
      "|     auth| count|\n",
      "+---------+------+\n",
      "|Logged In|278102|\n",
      "|Cancelled|    52|\n",
      "+---------+------+\n",
      "\n"
     ]
    }
   ],
   "source": [
    "df.filter(F.col(\"userId\") != \"\").select(\"auth\").groupby(\"auth\").count().show()"
   ]
  },
  {
   "cell_type": "markdown",
   "metadata": {},
   "source": [
    "We can observe that some `users` have the `id` as an `empty string`. The number of open user ids, `8346`, equals the number of None properties, such as: `firstName`, `lastName`, `registration`, `userAgent`. Also, those events have the `auth` state `Cancelled` or `Logged In`. This means that the users who do not have an ID are those who `haven't registered`, yet, into the platform."
   ]
  },
  {
   "cell_type": "markdown",
   "metadata": {},
   "source": [
    "When the `artist`, `song`, and `length` columns are `None`, the user stays on pages that do not include listening to music."
   ]
  },
  {
   "cell_type": "markdown",
   "metadata": {},
   "source": [
    "## Check for Other Unwanted Symbols"
   ]
  },
  {
   "cell_type": "code",
   "execution_count": 18,
   "metadata": {},
   "outputs": [
    {
     "name": "stdout",
     "output_type": "stream",
     "text": [
      "+------+----+---------+------+-------------+--------+------+-----+--------+------+----+------------+---------+----+------+---+---------+------+\n",
      "|artist|auth|firstName|gender|itemInSession|lastName|length|level|location|method|page|registration|sessionId|song|status| ts|userAgent|userId|\n",
      "+------+----+---------+------+-------------+--------+------+-----+--------+------+----+------------+---------+----+------+---+---------+------+\n",
      "|     0|   0|        0|     0|            0|       0|     0|    0|       0|     0|   0|           0|        0|   0|     0|  0|        0|     0|\n",
      "+------+----+---------+------+-------------+--------+------+-----+--------+------+----+------------+---------+----+------+---+---------+------+\n",
      "\n"
     ]
    }
   ],
   "source": [
    "df.select([F.count(F.when(F.col(c) == \"-\", c)).alias(c) for c in df.columns]).show()"
   ]
  },
  {
   "cell_type": "code",
   "execution_count": 19,
   "metadata": {},
   "outputs": [
    {
     "name": "stdout",
     "output_type": "stream",
     "text": [
      "+------+----+---------+------+-------------+--------+------+-----+--------+------+----+------------+---------+----+------+---+---------+------+\n",
      "|artist|auth|firstName|gender|itemInSession|lastName|length|level|location|method|page|registration|sessionId|song|status| ts|userAgent|userId|\n",
      "+------+----+---------+------+-------------+--------+------+-----+--------+------+----+------------+---------+----+------+---+---------+------+\n",
      "|     0|   0|        0|     0|            0|       0|     0|    0|       0|     0|   0|           0|        0|   0|     0|  0|        0|     0|\n",
      "+------+----+---------+------+-------------+--------+------+-----+--------+------+----+------------+---------+----+------+---+---------+------+\n",
      "\n"
     ]
    }
   ],
   "source": [
    "df.select([F.count(F.when(F.col(c) == \"NaN\", c)).alias(c) for c in df.columns]).show()"
   ]
  },
  {
   "cell_type": "code",
   "execution_count": 20,
   "metadata": {},
   "outputs": [
    {
     "name": "stdout",
     "output_type": "stream",
     "text": [
      "+------+----+---------+------+-------------+--------+------+-----+--------+------+----+------------+---------+----+------+---+---------+------+\n",
      "|artist|auth|firstName|gender|itemInSession|lastName|length|level|location|method|page|registration|sessionId|song|status| ts|userAgent|userId|\n",
      "+------+----+---------+------+-------------+--------+------+-----+--------+------+----+------------+---------+----+------+---+---------+------+\n",
      "|     0|   0|        0|     0|            0|       0|     0|    0|       0|     0|   0|           0|        0|   0|     0|  0|        0|     0|\n",
      "+------+----+---------+------+-------------+--------+------+-----+--------+------+----+------------+---------+----+------+---+---------+------+\n",
      "\n"
     ]
    }
   ],
   "source": [
    "df.select([F.count(F.when(F.col(c) == \"None\", c)).alias(c) for c in df.columns]).show()"
   ]
  },
  {
   "cell_type": "markdown",
   "metadata": {
    "collapsed": false
   },
   "source": [
    "None of those symbols can be found within the dataset."
   ]
  },
  {
   "cell_type": "code",
   "execution_count": 21,
   "metadata": {},
   "outputs": [
    {
     "name": "stdout",
     "output_type": "stream",
     "text": [
      "+------+------+---------+------+-------------+--------+------+------+--------+------+------+------------+---------+------+------+---+---------+------+\n",
      "|artist|  auth|firstName|gender|itemInSession|lastName|length| level|location|method|  page|registration|sessionId|  song|status| ts|userAgent|userId|\n",
      "+------+------+---------+------+-------------+--------+------+------+--------+------+------+------------+---------+------+------+---+---------+------+\n",
      "|286277|286500|   286500|286500|            0|  286500| 58392|286500|  286500|286500|286500|        8346|        0|286110|     0|  0|   286500|  8346|\n",
      "+------+------+---------+------+-------------+--------+------+------+--------+------+------+------------+---------+------+------+---+---------+------+\n",
      "\n"
     ]
    }
   ],
   "source": [
    "df.select([F.count(F.when(F.col(c).cast(\"int\").isNull(), c)).alias(c) for c in df.columns]).show()"
   ]
  },
  {
   "cell_type": "markdown",
   "metadata": {
    "collapsed": false
   },
   "source": [
    "There are no `sessionIds` that couldn't be cast to an int type."
   ]
  },
  {
   "cell_type": "markdown",
   "metadata": {
    "collapsed": false
   },
   "source": []
  },
  {
   "cell_type": "markdown",
   "metadata": {},
   "source": [
    "## Unregistered Users"
   ]
  },
  {
   "cell_type": "markdown",
   "metadata": {},
   "source": [
    "### Check Unregistered Users Page Distribution"
   ]
  },
  {
   "cell_type": "code",
   "execution_count": 22,
   "metadata": {},
   "outputs": [
    {
     "name": "stdout",
     "output_type": "stream",
     "text": [
      "+-------------------+-----+\n",
      "|               page|count|\n",
      "+-------------------+-----+\n",
      "|               Home| 4375|\n",
      "|              About|  429|\n",
      "|              Login| 3241|\n",
      "|               Help|  272|\n",
      "|              Error|    6|\n",
      "|           Register|   18|\n",
      "|Submit Registration|    5|\n",
      "+-------------------+-----+\n",
      "\n"
     ]
    }
   ],
   "source": [
    "df.filter(F.col(\"userId\") == \"\").select(\"page\").groupby(\"page\").count().show()"
   ]
  },
  {
   "cell_type": "markdown",
   "metadata": {},
   "source": [
    "Because there is no valuable activity for churn prediction performed by empty users, we can drop them out of the DataFrame."
   ]
  },
  {
   "cell_type": "markdown",
   "metadata": {},
   "source": [
    "## Drop Unregistered Users"
   ]
  },
  {
   "cell_type": "code",
   "execution_count": 23,
   "metadata": {},
   "outputs": [
    {
     "name": "stdout",
     "output_type": "stream",
     "text": [
      "+------+----+---------+------+-------------+--------+------+-----+--------+------+----+------------+---------+-----+------+---+---------+------+\n",
      "|artist|auth|firstName|gender|itemInSession|lastName|length|level|location|method|page|registration|sessionId| song|status| ts|userAgent|userId|\n",
      "+------+----+---------+------+-------------+--------+------+-----+--------+------+----+------------+---------+-----+------+---+---------+------+\n",
      "| 50046|   0|        0|     0|            0|       0| 50046|    0|       0|     0|   0|           0|        0|50046|     0|  0|        0|     0|\n",
      "+------+----+---------+------+-------------+--------+------+-----+--------+------+----+------------+---------+-----+------+---+---------+------+\n",
      "\n"
     ]
    }
   ],
   "source": [
    "cleaned_df = df.filter(F.col(\"userId\") != \"\")\n",
    "cleaned_df.select([F.count(F.when(F.isnull(c), c)).alias(c) for c in df.columns]).show()"
   ]
  },
  {
   "cell_type": "markdown",
   "metadata": {},
   "source": [
    "## Empty Artists"
   ]
  },
  {
   "cell_type": "markdown",
   "metadata": {},
   "source": [
    "### Check Empty Artists Distribution"
   ]
  },
  {
   "cell_type": "code",
   "execution_count": 24,
   "metadata": {},
   "outputs": [
    {
     "name": "stdout",
     "output_type": "stream",
     "text": [
      "+------+----+------+---------------+\n",
      "|artist|song|userId|           page|\n",
      "+------+----+------+---------------+\n",
      "|  NULL|NULL|    30|Add to Playlist|\n",
      "|  NULL|NULL|     9|    Roll Advert|\n",
      "|  NULL|NULL|     9|      Thumbs Up|\n",
      "|  NULL|NULL|    54|      Downgrade|\n",
      "|  NULL|NULL|    54|      Thumbs Up|\n",
      "|  NULL|NULL|     9|    Thumbs Down|\n",
      "|  NULL|NULL|     9|           Home|\n",
      "|  NULL|NULL|     9|         Logout|\n",
      "|  NULL|NULL|    74|      Thumbs Up|\n",
      "|  NULL|NULL|      |           Home|\n",
      "|  NULL|NULL|      |           Help|\n",
      "|  NULL|NULL|      |           Home|\n",
      "|  NULL|NULL|      |          Login|\n",
      "|  NULL|NULL|     9|           Home|\n",
      "|  NULL|NULL|    30|    Thumbs Down|\n",
      "|  NULL|NULL|     4|         Logout|\n",
      "|  NULL|NULL|      |           Home|\n",
      "|  NULL|NULL|      |          Login|\n",
      "|  NULL|NULL|     4|           Home|\n",
      "|  NULL|NULL|    74|Add to Playlist|\n",
      "+------+----+------+---------------+\n",
      "only showing top 20 rows\n",
      "\n"
     ]
    }
   ],
   "source": [
    "df.filter(F.isnull(F.col(\"artist\"))).select([\"artist\", \"song\", \"userId\", \"page\"]).show()"
   ]
  },
  {
   "cell_type": "code",
   "execution_count": 25,
   "metadata": {},
   "outputs": [
    {
     "name": "stdout",
     "output_type": "stream",
     "text": [
      "+--------------------+-----+\n",
      "|                page|count|\n",
      "+--------------------+-----+\n",
      "|    Submit Downgrade|   63|\n",
      "|         Thumbs Down| 2546|\n",
      "|                Home|14457|\n",
      "|           Downgrade| 2055|\n",
      "|         Roll Advert| 3933|\n",
      "|              Logout| 3226|\n",
      "|       Save Settings|  310|\n",
      "|               About|  924|\n",
      "|            Settings| 1514|\n",
      "|               Login| 3241|\n",
      "|     Add to Playlist| 6526|\n",
      "|          Add Friend| 4277|\n",
      "|           Thumbs Up|12551|\n",
      "|                Help| 1726|\n",
      "|             Upgrade|  499|\n",
      "|               Error|  258|\n",
      "|      Submit Upgrade|  159|\n",
      "|              Cancel|   52|\n",
      "|Cancellation Conf...|   52|\n",
      "|            Register|   18|\n",
      "+--------------------+-----+\n",
      "only showing top 20 rows\n",
      "\n"
     ]
    }
   ],
   "source": [
    "df.filter(F.isnull(F.col(\"artist\"))).select([\"artist\", \"song\", \"userId\", \"page\"]).groupby(\"page\").count().show()"
   ]
  },
  {
   "cell_type": "markdown",
   "metadata": {},
   "source": [
    "We can observe that when the artist is null, the users spend time on different pages than actually listening to music. In this case, such information is valuable for understanding the behavior of registered users."
   ]
  },
  {
   "cell_type": "markdown",
   "metadata": {},
   "source": [
    "### Impute empty values"
   ]
  },
  {
   "cell_type": "code",
   "execution_count": 26,
   "metadata": {},
   "outputs": [
    {
     "name": "stdout",
     "output_type": "stream",
     "text": [
      "+------+----+---------+------+-------------+--------+------+-----+--------+------+----+------------+---------+----+------+---+---------+------+\n",
      "|artist|auth|firstName|gender|itemInSession|lastName|length|level|location|method|page|registration|sessionId|song|status| ts|userAgent|userId|\n",
      "+------+----+---------+------+-------------+--------+------+-----+--------+------+----+------------+---------+----+------+---+---------+------+\n",
      "|     0|   0|        0|     0|            0|       0|     0|    0|       0|     0|   0|           0|        0|   0|     0|  0|        0|     0|\n",
      "+------+----+---------+------+-------------+--------+------+-----+--------+------+----+------------+---------+----+------+---+---------+------+\n",
      "\n"
     ]
    }
   ],
   "source": [
    "# Fill the length of the song with 0.\n",
    "# Fill the artist and the song with a string constant to signal that those pages don't have such information.\n",
    "cleaned_df = cleaned_df.fillna({\n",
    "    \"length\": 0,\n",
    "    \"artist\": \"unknown\",\n",
    "    \"song\": \"unknown\"\n",
    "})\n",
    "cleaned_df.select([F.count(F.when(F.isnull(c), c)).alias(c) for c in df.columns]).show()"
   ]
  },
  {
   "cell_type": "markdown",
   "metadata": {},
   "source": [
    "Great! Now our data no longer has any `None` values. The last cleaning step is to check the types of the variables."
   ]
  },
  {
   "cell_type": "markdown",
   "metadata": {},
   "source": [
    "## Check Types"
   ]
  },
  {
   "cell_type": "code",
   "execution_count": 27,
   "metadata": {},
   "outputs": [
    {
     "name": "stdout",
     "output_type": "stream",
     "text": [
      "root\n",
      " |-- artist: string (nullable = false)\n",
      " |-- auth: string (nullable = true)\n",
      " |-- firstName: string (nullable = true)\n",
      " |-- gender: string (nullable = true)\n",
      " |-- itemInSession: long (nullable = true)\n",
      " |-- lastName: string (nullable = true)\n",
      " |-- length: double (nullable = false)\n",
      " |-- level: string (nullable = true)\n",
      " |-- location: string (nullable = true)\n",
      " |-- method: string (nullable = true)\n",
      " |-- page: string (nullable = true)\n",
      " |-- registration: long (nullable = true)\n",
      " |-- sessionId: long (nullable = true)\n",
      " |-- song: string (nullable = false)\n",
      " |-- status: long (nullable = true)\n",
      " |-- ts: long (nullable = true)\n",
      " |-- userAgent: string (nullable = true)\n",
      " |-- userId: string (nullable = true)\n",
      "\n"
     ]
    }
   ],
   "source": [
    "cleaned_df.printSchema()"
   ]
  },
  {
   "cell_type": "code",
   "execution_count": 28,
   "metadata": {},
   "outputs": [
    {
     "name": "stdout",
     "output_type": "stream",
     "text": [
      "+----------------+---------+---------+------+-------------+--------+---------+-----+--------------------+------+--------+-------------+---------+--------------------+------+-------------+--------------------+------+\n",
      "|          artist|     auth|firstName|gender|itemInSession|lastName|   length|level|            location|method|    page| registration|sessionId|                song|status|           ts|           userAgent|userId|\n",
      "+----------------+---------+---------+------+-------------+--------+---------+-----+--------------------+------+--------+-------------+---------+--------------------+------+-------------+--------------------+------+\n",
      "|  Martha Tilston|Logged In|    Colin|     M|           50| Freeman|277.89016| paid|     Bakersfield, CA|   PUT|NextSong|1538173362000|       29|           Rockpools|   200|1538352117000|Mozilla/5.0 (Wind...|    30|\n",
      "|Five Iron Frenzy|Logged In|    Micah|     M|           79|    Long|236.09424| free|Boston-Cambridge-...|   PUT|NextSong|1538331630000|        8|              Canada|   200|1538352180000|\"Mozilla/5.0 (Win...|     9|\n",
      "|    Adam Lambert|Logged In|    Colin|     M|           51| Freeman| 282.8273| paid|     Bakersfield, CA|   PUT|NextSong|1538173362000|       29|   Time For Miracles|   200|1538352394000|Mozilla/5.0 (Wind...|    30|\n",
      "|          Enigma|Logged In|    Micah|     M|           80|    Long|262.71302| free|Boston-Cambridge-...|   PUT|NextSong|1538331630000|        8|Knocking On Forbi...|   200|1538352416000|\"Mozilla/5.0 (Win...|     9|\n",
      "|       Daft Punk|Logged In|    Colin|     M|           52| Freeman|223.60771| paid|     Bakersfield, CA|   PUT|NextSong|1538173362000|       29|Harder Better Fas...|   200|1538352676000|Mozilla/5.0 (Wind...|    30|\n",
      "+----------------+---------+---------+------+-------------+--------+---------+-----+--------------------+------+--------+-------------+---------+--------------------+------+-------------+--------------------+------+\n",
      "only showing top 5 rows\n",
      "\n"
     ]
    }
   ],
   "source": [
    "cleaned_df.show(n=5)"
   ]
  },
  {
   "cell_type": "markdown",
   "metadata": {},
   "source": [
    "All the types are looking all right. We can proceed to EDA."
   ]
  },
  {
   "cell_type": "markdown",
   "metadata": {},
   "source": [
    "# Exploratory Data Analysis"
   ]
  },
  {
   "cell_type": "markdown",
   "metadata": {},
   "source": [
    "### Define Churn\n",
    "\n",
    "We will consider that a user is `churn` when the subscription is canceled."
   ]
  },
  {
   "cell_type": "code",
   "execution_count": 29,
   "metadata": {},
   "outputs": [
    {
     "name": "stdout",
     "output_type": "stream",
     "text": [
      "+-------------------------+\n",
      "|Cancellation Confirmation|\n",
      "+-------------------------+\n",
      "|                       52|\n",
      "+-------------------------+\n",
      "\n"
     ]
    }
   ],
   "source": [
    "cleaned_df.select(F.count(F.when(F.col(\"page\") == \"Cancellation Confirmation\", \"page\")).alias(\"Cancellation Confirmation\")).show()"
   ]
  },
  {
   "cell_type": "code",
   "execution_count": 30,
   "metadata": {},
   "outputs": [
    {
     "name": "stdout",
     "output_type": "stream",
     "text": [
      "+----------------+---------+---------+------+-------------+--------+---------+-----+--------------------+------+--------+-------------+---------+--------------------+------+-------------+--------------------+------+----------+\n",
      "|          artist|     auth|firstName|gender|itemInSession|lastName|   length|level|            location|method|    page| registration|sessionId|                song|status|           ts|           userAgent|userId|churnEvent|\n",
      "+----------------+---------+---------+------+-------------+--------+---------+-----+--------------------+------+--------+-------------+---------+--------------------+------+-------------+--------------------+------+----------+\n",
      "|  Martha Tilston|Logged In|    Colin|     M|           50| Freeman|277.89016| paid|     Bakersfield, CA|   PUT|NextSong|1538173362000|       29|           Rockpools|   200|1538352117000|Mozilla/5.0 (Wind...|    30|         0|\n",
      "|Five Iron Frenzy|Logged In|    Micah|     M|           79|    Long|236.09424| free|Boston-Cambridge-...|   PUT|NextSong|1538331630000|        8|              Canada|   200|1538352180000|\"Mozilla/5.0 (Win...|     9|         0|\n",
      "|    Adam Lambert|Logged In|    Colin|     M|           51| Freeman| 282.8273| paid|     Bakersfield, CA|   PUT|NextSong|1538173362000|       29|   Time For Miracles|   200|1538352394000|Mozilla/5.0 (Wind...|    30|         0|\n",
      "|          Enigma|Logged In|    Micah|     M|           80|    Long|262.71302| free|Boston-Cambridge-...|   PUT|NextSong|1538331630000|        8|Knocking On Forbi...|   200|1538352416000|\"Mozilla/5.0 (Win...|     9|         0|\n",
      "|       Daft Punk|Logged In|    Colin|     M|           52| Freeman|223.60771| paid|     Bakersfield, CA|   PUT|NextSong|1538173362000|       29|Harder Better Fas...|   200|1538352676000|Mozilla/5.0 (Wind...|    30|         0|\n",
      "+----------------+---------+---------+------+-------------+--------+---------+-----+--------------------+------+--------+-------------+---------+--------------------+------+-------------+--------------------+------+----------+\n",
      "only showing top 5 rows\n",
      "\n"
     ]
    }
   ],
   "source": [
    "# First, create the churn event based on the visited page.\n",
    "# The churnEvent will be different for every event/visited page.\n",
    "labeled_df = cleaned_df.withColumn(\"churnEvent\", F.when(F.col(\"page\") == \"Cancellation Confirmation\", 1).otherwise(0))\n",
    "labeled_df.show(n=5)"
   ]
  },
  {
   "cell_type": "code",
   "execution_count": 31,
   "metadata": {},
   "outputs": [
    {
     "name": "stdout",
     "output_type": "stream",
     "text": [
      "+--------------------+---------+---------+------+-------------+---------+---------+-----+-----------------+------+--------------------+-------------+---------+--------------------+------+-------------+--------------------+------+----------+-----+\n",
      "|              artist|     auth|firstName|gender|itemInSession| lastName|   length|level|         location|method|                page| registration|sessionId|                song|status|           ts|           userAgent|userId|churnEvent|churn|\n",
      "+--------------------+---------+---------+------+-------------+---------+---------+-----+-----------------+------+--------------------+-------------+---------+--------------------+------+-------------+--------------------+------+----------+-----+\n",
      "|             unknown|Logged In|    Molly|     F|            1|Patterson|      0.0| free|Memphis, TN-MS-AR|   GET|                Home|1535498705000|      403|             unknown|   200|1538657235000|Mozilla/5.0 (X11;...|   122|         0|    1|\n",
      "|             unknown|Logged In|    Molly|     F|            2|Patterson|      0.0| free|Memphis, TN-MS-AR|   PUT|              Logout|1535498705000|      403|             unknown|   307|1538657236000|Mozilla/5.0 (X11;...|   122|         0|    1|\n",
      "|             unknown|Logged In|    Molly|     F|            3|Patterson|      0.0| free|Memphis, TN-MS-AR|   GET|                Home|1535498705000|      611|             unknown|   200|1539173538000|Mozilla/5.0 (X11;...|   122|         0|    1|\n",
      "|         Danger Doom|Logged In|    Molly|     F|            4|Patterson|160.36526| free|Memphis, TN-MS-AR|   PUT|            NextSong|1535498705000|      611|Old School Rules ...|   200|1539173664000|Mozilla/5.0 (X11;...|   122|         0|    1|\n",
      "|Florence + The Ma...|Logged In|    Molly|     F|            5|Patterson| 131.3171| free|Memphis, TN-MS-AR|   PUT|            NextSong|1535498705000|      611|    Kiss With A Fist|   200|1539173824000|Mozilla/5.0 (X11;...|   122|         0|    1|\n",
      "|       Groove Armada|Logged In|    Molly|     F|            6|Patterson|309.68118| free|Memphis, TN-MS-AR|   PUT|            NextSong|1535498705000|      611|       Serve Chilled|   200|1539173955000|Mozilla/5.0 (X11;...|   122|         0|    1|\n",
      "|The All-American ...|Logged In|    Molly|     F|            7|Patterson|194.79465| free|Memphis, TN-MS-AR|   PUT|            NextSong|1535498705000|      611|Mona Lisa (When T...|   200|1539174264000|Mozilla/5.0 (X11;...|   122|         0|    1|\n",
      "|Metallica / Maria...|Logged In|    Molly|     F|            8|Patterson|279.11791| free|Memphis, TN-MS-AR|   PUT|            NextSong|1535498705000|      611|  The Memory Remains|   200|1539174458000|Mozilla/5.0 (X11;...|   122|         0|    1|\n",
      "|             unknown|Logged In|    Molly|     F|            9|Patterson|      0.0| free|Memphis, TN-MS-AR|   GET|         Roll Advert|1535498705000|      611|             unknown|   200|1539174569000|Mozilla/5.0 (X11;...|   122|         0|    1|\n",
      "|             unknown|Logged In|    Molly|     F|            0|Patterson|      0.0| free|Memphis, TN-MS-AR|   GET|                Home|1535498705000|      691|             unknown|   200|1539886900000|Mozilla/5.0 (X11;...|   122|         0|    1|\n",
      "|Atlanta Rhythm Se...|Logged In|    Molly|     F|            1|Patterson|217.80853| free|Memphis, TN-MS-AR|   PUT|            NextSong|1535498705000|      691|           Doraville|   200|1539886903000|Mozilla/5.0 (X11;...|   122|         0|    1|\n",
      "|           Lady GaGa|Logged In|    Molly|     F|            2|Patterson|274.18077| free|Memphis, TN-MS-AR|   PUT|            NextSong|1535498705000|      691|           Alejandro|   200|1539887120000|Mozilla/5.0 (X11;...|   122|         0|    1|\n",
      "|       Guns N' Roses|Logged In|    Molly|     F|            3|Patterson| 184.0322| free|Memphis, TN-MS-AR|   PUT|            NextSong|1535498705000|      691|    Live And Let Die|   200|1539887394000|Mozilla/5.0 (X11;...|   122|         0|    1|\n",
      "|        Cyndi Lauper|Logged In|    Molly|     F|            4|Patterson|228.88444| free|Memphis, TN-MS-AR|   PUT|            NextSong|1535498705000|      691|Girls Just Want T...|   200|1539887578000|Mozilla/5.0 (X11;...|   122|         0|    1|\n",
      "|             unknown|Logged In|    Molly|     F|            5|Patterson|      0.0| free|Memphis, TN-MS-AR|   GET|         Roll Advert|1535498705000|      691|             unknown|   200|1539887683000|Mozilla/5.0 (X11;...|   122|         0|    1|\n",
      "|           Cat Power|Logged In|    Molly|     F|            6|Patterson| 142.8371| free|Memphis, TN-MS-AR|   PUT|            NextSong|1535498705000|      691|         Sea Of Love|   200|1539887806000|Mozilla/5.0 (X11;...|   122|         0|    1|\n",
      "|   The Rockin Rebels|Logged In|    Molly|     F|            7|Patterson| 138.1873| free|Memphis, TN-MS-AR|   PUT|            NextSong|1535498705000|      691|        Wild Weekend|   200|1539887948000|Mozilla/5.0 (X11;...|   122|         0|    1|\n",
      "|             unknown|Logged In|    Molly|     F|            8|Patterson|      0.0| free|Memphis, TN-MS-AR|   GET|                Home|1535498705000|      691|             unknown|   200|1539888010000|Mozilla/5.0 (X11;...|   122|         0|    1|\n",
      "|   Cage The Elephant|Logged In|    Molly|     F|            0|Patterson| 228.0224| free|Memphis, TN-MS-AR|   PUT|            NextSong|1535498705000|     1029|Back Against The ...|   200|1540055184000|Mozilla/5.0 (X11;...|   122|         0|    1|\n",
      "|             unknown|Logged In|    Molly|     F|            1|Patterson|      0.0| free|Memphis, TN-MS-AR|   GET|                Home|1535498705000|     1029|             unknown|   200|1540055184000|Mozilla/5.0 (X11;...|   122|         0|    1|\n",
      "|            De-Phazz|Logged In|    Molly|     F|            2|Patterson|220.99546| free|Memphis, TN-MS-AR|   PUT|            NextSong|1535498705000|     1029|       Belle de Jour|   200|1540055412000|Mozilla/5.0 (X11;...|   122|         0|    1|\n",
      "|   King Biscuit Time|Logged In|    Molly|     F|            3|Patterson|227.52608| free|Memphis, TN-MS-AR|   PUT|            NextSong|1535498705000|     1029|      Time To Get Up|   200|1540055632000|Mozilla/5.0 (X11;...|   122|         0|    1|\n",
      "|             unknown|Logged In|    Molly|     F|            4|Patterson|      0.0| free|Memphis, TN-MS-AR|   GET|             Upgrade|1535498705000|     1029|             unknown|   200|1540055690000|Mozilla/5.0 (X11;...|   122|         0|    1|\n",
      "|             unknown|Logged In|    Molly|     F|            5|Patterson|      0.0| free|Memphis, TN-MS-AR|   GET|             Upgrade|1535498705000|     1029|             unknown|   200|1540055771000|Mozilla/5.0 (X11;...|   122|         0|    1|\n",
      "|             unknown|Logged In|    Molly|     F|            6|Patterson|      0.0| free|Memphis, TN-MS-AR|   PUT|      Submit Upgrade|1535498705000|     1029|             unknown|   307|1540055772000|Mozilla/5.0 (X11;...|   122|         0|    1|\n",
      "|             unknown|Logged In|    Molly|     F|            7|Patterson|      0.0| paid|Memphis, TN-MS-AR|   GET|                Home|1535498705000|     1029|             unknown|   200|1540055776000|Mozilla/5.0 (X11;...|   122|         0|    1|\n",
      "|             unknown|Logged In|    Molly|     F|            8|Patterson|      0.0| paid|Memphis, TN-MS-AR|   PUT|          Add Friend|1535498705000|     1029|             unknown|   307|1540055777000|Mozilla/5.0 (X11;...|   122|         0|    1|\n",
      "|Afro-Cuban All Stars|Logged In|    Molly|     F|            9|Patterson| 288.1824| paid|Memphis, TN-MS-AR|   PUT|            NextSong|1535498705000|     1029|MarÃÂ­a Caracole...|   200|1540055859000|Mozilla/5.0 (X11;...|   122|         0|    1|\n",
      "|       Spiritualized|Logged In|    Molly|     F|           10|Patterson|344.99873| paid|Memphis, TN-MS-AR|   PUT|            NextSong|1535498705000|     1029|Why Don't You Smi...|   200|1540056147000|Mozilla/5.0 (X11;...|   122|         0|    1|\n",
      "|            Cyberfit|Logged In|    Molly|     F|           11|Patterson|303.15057| paid|Memphis, TN-MS-AR|   PUT|            NextSong|1535498705000|     1029|           Pojo Pojo|   200|1540056491000|Mozilla/5.0 (X11;...|   122|         0|    1|\n",
      "|Alison Krauss / U...|Logged In|    Molly|     F|           12|Patterson|171.04934| paid|Memphis, TN-MS-AR|   PUT|            NextSong|1535498705000|     1029|            Restless|   200|1540056794000|Mozilla/5.0 (X11;...|   122|         0|    1|\n",
      "|             Cartola|Logged In|    Molly|     F|           13|Patterson|  127.242| paid|Memphis, TN-MS-AR|   PUT|            NextSong|1535498705000|     1029|            Tive Sim|   200|1540056965000|Mozilla/5.0 (X11;...|   122|         0|    1|\n",
      "|             unknown|Logged In|    Molly|     F|           14|Patterson|      0.0| paid|Memphis, TN-MS-AR|   PUT|           Thumbs Up|1535498705000|     1029|             unknown|   307|1540056966000|Mozilla/5.0 (X11;...|   122|         0|    1|\n",
      "|Thao with The Get...|Logged In|    Molly|     F|           15|Patterson|193.74975| paid|Memphis, TN-MS-AR|   PUT|            NextSong|1535498705000|     1029|           Geography|   200|1540057092000|Mozilla/5.0 (X11;...|   122|         0|    1|\n",
      "|          Kanye West|Logged In|    Molly|     F|           16|Patterson|278.07302| paid|Memphis, TN-MS-AR|   PUT|            NextSong|1535498705000|     1029|    Through The Wire|   200|1540057285000|Mozilla/5.0 (X11;...|   122|         0|    1|\n",
      "|The Lonely Island...|Logged In|    Molly|     F|           17|Patterson| 192.9922| paid|Memphis, TN-MS-AR|   PUT|            NextSong|1535498705000|     1029|             Boombox|   200|1540057563000|Mozilla/5.0 (X11;...|   122|         0|    1|\n",
      "|Soulja Boy Tell'e...|Logged In|    Molly|     F|           18|Patterson| 194.2722| paid|Memphis, TN-MS-AR|   PUT|            NextSong|1535498705000|     1029|Kiss Me Thru The ...|   200|1540057755000|Mozilla/5.0 (X11;...|   122|         0|    1|\n",
      "|      More Fire Crew|Logged In|    Molly|     F|           19|Patterson| 353.4624| paid|Memphis, TN-MS-AR|   PUT|            NextSong|1535498705000|     1029|         Never Trust|   200|1540057949000|Mozilla/5.0 (X11;...|   122|         0|    1|\n",
      "|         Donna Lewis|Logged In|    Molly|     F|           20|Patterson|240.95302| paid|Memphis, TN-MS-AR|   PUT|            NextSong|1535498705000|     1029|I Love You Always...|   200|1540058302000|Mozilla/5.0 (X11;...|   122|         0|    1|\n",
      "|  Renegade Soundwave|Logged In|    Molly|     F|           21|Patterson|224.67873| paid|Memphis, TN-MS-AR|   PUT|            NextSong|1535498705000|     1029|  Pocket Porn (1990)|   200|1540058542000|Mozilla/5.0 (X11;...|   122|         0|    1|\n",
      "|         Cat Stevens|Logged In|    Molly|     F|           22|Patterson|225.17506| paid|Memphis, TN-MS-AR|   PUT|            NextSong|1535498705000|     1029|            Sad Lisa|   200|1540058766000|Mozilla/5.0 (X11;...|   122|         0|    1|\n",
      "|            La Renga|Logged In|    Molly|     F|           23|Patterson|307.35628| paid|Memphis, TN-MS-AR|   PUT|            NextSong|1535498705000|     1029|Triste CanciÃÂ³n...|   200|1540058991000|Mozilla/5.0 (X11;...|   122|         0|    1|\n",
      "|              Eagles|Logged In|    Molly|     F|           24|Patterson|241.78893| paid|Memphis, TN-MS-AR|   PUT|            NextSong|1535498705000|     1029|Take The Devil (L...|   200|1540059298000|Mozilla/5.0 (X11;...|   122|         0|    1|\n",
      "|             unknown|Logged In|    Molly|     F|           25|Patterson|      0.0| paid|Memphis, TN-MS-AR|   PUT|         Thumbs Down|1535498705000|     1029|             unknown|   307|1540059299000|Mozilla/5.0 (X11;...|   122|         0|    1|\n",
      "|        Modest Mouse|Logged In|    Molly|     F|           26|Patterson|246.17751| paid|Memphis, TN-MS-AR|   PUT|            NextSong|1535498705000|     1029|           Dashboard|   200|1540059539000|Mozilla/5.0 (X11;...|   122|         0|    1|\n",
      "|   59 Times the Pain|Logged In|    Molly|     F|           27|Patterson|144.95302| paid|Memphis, TN-MS-AR|   PUT|            NextSong|1535498705000|     1029|          Found Home|   200|1540059785000|Mozilla/5.0 (X11;...|   122|         0|    1|\n",
      "|         Suzi Quatro|Logged In|    Molly|     F|           28|Patterson|239.72526| paid|Memphis, TN-MS-AR|   PUT|            NextSong|1535498705000|     1029|       Daytona Demon|   200|1540059929000|Mozilla/5.0 (X11;...|   122|         0|    1|\n",
      "|             unknown|Logged In|    Molly|     F|           29|Patterson|      0.0| paid|Memphis, TN-MS-AR|   PUT|           Thumbs Up|1535498705000|     1029|             unknown|   307|1540059930000|Mozilla/5.0 (X11;...|   122|         0|    1|\n",
      "|            No Doubt|Logged In|    Molly|     F|           30|Patterson|241.81506| paid|Memphis, TN-MS-AR|   PUT|            NextSong|1535498705000|     1029|             Running|   200|1540060168000|Mozilla/5.0 (X11;...|   122|         0|    1|\n",
      "|        Lisac Josipa|Logged In|    Molly|     F|           31|Patterson|  271.882| paid|Memphis, TN-MS-AR|   PUT|            NextSong|1535498705000|     1029|       Le~aj od suza|   200|1540060409000|Mozilla/5.0 (X11;...|   122|         0|    1|\n",
      "|         Kim Burrell|Logged In|    Molly|     F|           32|Patterson|249.67791| paid|Memphis, TN-MS-AR|   PUT|            NextSong|1535498705000|     1029|        Just as I Am|   200|1540060680000|Mozilla/5.0 (X11;...|   122|         0|    1|\n",
      "|              Xzibit|Logged In|    Molly|     F|           33|Patterson|262.29506| paid|Memphis, TN-MS-AR|   PUT|            NextSong|1535498705000|     1029|       Chamber Music|   200|1540060929000|Mozilla/5.0 (X11;...|   122|         0|    1|\n",
      "|        Brad Paisley|Logged In|    Molly|     F|           34|Patterson|266.91873| paid|Memphis, TN-MS-AR|   PUT|            NextSong|1535498705000|     1029|    She's Everything|   200|1540061191000|Mozilla/5.0 (X11;...|   122|         0|    1|\n",
      "|        New Radicals|Logged In|    Molly|     F|           35|Patterson|219.19302| paid|Memphis, TN-MS-AR|   PUT|            NextSong|1535498705000|     1029|  Someday We'll Know|   200|1540061457000|Mozilla/5.0 (X11;...|   122|         0|    1|\n",
      "|               3OH!3|Logged In|    Molly|     F|           36|Patterson|  192.522| paid|Memphis, TN-MS-AR|   PUT|            NextSong|1535498705000|     1029|My First Kiss (Fe...|   200|1540061676000|Mozilla/5.0 (X11;...|   122|         0|    1|\n",
      "|      Robert Johnson|Logged In|    Molly|     F|           37|Patterson|154.09587| paid|Memphis, TN-MS-AR|   PUT|            NextSong|1535498705000|     1029|I?'m A Steady Rol...|   200|1540061868000|Mozilla/5.0 (X11;...|   122|         0|    1|\n",
      "|             unknown|Logged In|    Molly|     F|           38|Patterson|      0.0| paid|Memphis, TN-MS-AR|   PUT|           Thumbs Up|1535498705000|     1029|             unknown|   307|1540061869000|Mozilla/5.0 (X11;...|   122|         0|    1|\n",
      "|             unknown|Logged In|    Molly|     F|           39|Patterson|      0.0| paid|Memphis, TN-MS-AR|   PUT|     Add to Playlist|1535498705000|     1029|             unknown|   200|1540061987000|Mozilla/5.0 (X11;...|   122|         0|    1|\n",
      "|         Bob Newhart|Logged In|    Molly|     F|           40|Patterson|367.98649| paid|Memphis, TN-MS-AR|   PUT|            NextSong|1535498705000|     1029|Introducing Tobac...|   200|1540062022000|Mozilla/5.0 (X11;...|   122|         0|    1|\n",
      "|             unknown|Logged In|    Molly|     F|           41|Patterson|      0.0| paid|Memphis, TN-MS-AR|   GET|            Settings|1535498705000|     1029|             unknown|   200|1540062049000|Mozilla/5.0 (X11;...|   122|         0|    1|\n",
      "|             unknown|Logged In|    Molly|     F|           42|Patterson|      0.0| paid|Memphis, TN-MS-AR|   PUT|              Cancel|1535498705000|     1029|             unknown|   307|1540062050000|Mozilla/5.0 (X11;...|   122|         0|    1|\n",
      "|             unknown|Cancelled|    Molly|     F|           43|Patterson|      0.0| paid|Memphis, TN-MS-AR|   GET|Cancellation Conf...|1535498705000|     1029|             unknown|   200|1540062068000|Mozilla/5.0 (X11;...|   122|         1|    1|\n",
      "+--------------------+---------+---------+------+-------------+---------+---------+-----+-----------------+------+--------------------+-------------+---------+--------------------+------+-------------+--------------------+------+----------+-----+\n",
      "\n"
     ]
    }
   ],
   "source": [
    "# Now create the churn label which is unique for every user.\n",
    "labeled_df = labeled_df.withColumn(\"churn\", F.sum(\"churnEvent\").over(Window.partitionBy(\"userId\")))\n",
    "labeled_df = labeled_df.withColumn(\"churn\", F.when(F.col(\"churn\") >= 1, 1).otherwise(0))\n",
    "labeled_df.filter(F.col(\"userId\") == \"122\").show(n=100)"
   ]
  },
  {
   "cell_type": "markdown",
   "metadata": {},
   "source": [
    "### Explore Data"
   ]
  },
  {
   "cell_type": "code",
   "execution_count": 32,
   "metadata": {},
   "outputs": [],
   "source": [
    "palette = sns.color_palette(\"Set2\")\n",
    "sns.set_palette(palette)"
   ]
  },
  {
   "cell_type": "markdown",
   "metadata": {},
   "source": [
    "##### Sample the Dataset for EDA\n",
    "This is useful for when the full dataset is used."
   ]
  },
  {
   "cell_type": "code",
   "execution_count": 33,
   "metadata": {},
   "outputs": [
    {
     "name": "stdout",
     "output_type": "stream",
     "text": [
      "Sampling fraction for EDA: 100.00%\n",
      "+--------------------+---------+---------+------+-------------+---------+---------+-----+--------------------+------+--------+-------------+---------+--------------------+------+-------------+--------------------+------+----------+-----+\n",
      "|              artist|     auth|firstName|gender|itemInSession| lastName|   length|level|            location|method|    page| registration|sessionId|                song|status|           ts|           userAgent|userId|churnEvent|churn|\n",
      "+--------------------+---------+---------+------+-------------+---------+---------+-----+--------------------+------+--------+-------------+---------+--------------------+------+-------------+--------------------+------+----------+-----+\n",
      "|Sleeping With Sirens|Logged In| Darianna|     F|            0|Carpenter|202.97098| free|Bridgeport-Stamfo...|   PUT|NextSong|1538016340000|       31|Captain Tyin Knot...|   200|1539003534000|\"Mozilla/5.0 (iPh...|100010|         0|    0|\n",
      "+--------------------+---------+---------+------+-------------+---------+---------+-----+--------------------+------+--------+-------------+---------+--------------------+------+-------------+--------------------+------+----------+-----+\n",
      "only showing top 1 row\n",
      "\n"
     ]
    }
   ],
   "source": [
    "mini_df_count = 278154\n",
    "# Keep the number of records from the mini dataframe as a point of reference. If we use only the mini dataframe, then all the records will be used.\n",
    "sampling_fraction = 278154 / labeled_df.count()\n",
    "print(f\"Sampling fraction for EDA: {sampling_fraction * 100:.2f}%\")\n",
    "eda_df = labeled_df.sample(withReplacement=False, fraction=sampling_fraction, seed=42)\n",
    "eda_df.show(n=1)"
   ]
  },
  {
   "cell_type": "markdown",
   "metadata": {},
   "source": [
    "#### Users Churn Distribution"
   ]
  },
  {
   "cell_type": "code",
   "execution_count": 34,
   "metadata": {},
   "outputs": [
    {
     "name": "stderr",
     "output_type": "stream",
     "text": [
      "/tmp/ipykernel_17359/2601669001.py:3: FutureWarning: \n",
      "\n",
      "The `errcolor` parameter is deprecated. And will be removed in v0.15.0. Pass `err_kws={'color': '.5'}` instead.\n",
      "\n",
      "  sns.barplot(data=user_churn_distribution, x=\"churn\", y=\"count\", errorbar=(\"pi\", 50), capsize=.4, errcolor=\".5\", linewidth=3, edgecolor=\".5\", ax=ax)\n"
     ]
    },
    {
     "data": {
      "image/png": "[encoded data removed]",
      "text/plain": [
       "<Figure size 1000x600 with 1 Axes>"
      ]
     },
     "metadata": {},
     "output_type": "display_data"
    }
   ],
   "source": [
    "user_churn_distribution = eda_df.select([\"userId\", \"churn\"]).distinct().groupby(\"churn\").count().toPandas()\n",
    "fig, ax = plt.subplots(1, 1, figsize=(10, 6))\n",
    "sns.barplot(data=user_churn_distribution, x=\"churn\", y=\"count\", errorbar=(\"pi\", 50), capsize=.4, errcolor=\".5\", linewidth=3, edgecolor=\".5\", ax=ax)\n",
    "ax.set_title(\"User Churn Distribution\", fontsize=20)\n",
    "ax.set_xlabel(\"0 = No-churn users; 1 = Churn users\", fontsize=14)\n",
    "ax.set_ylabel(\"Number of users\", fontsize=14)\n",
    "fig.savefig(\"images/user_churn_distribution.jpg\");"
   ]
  },
  {
   "cell_type": "markdown",
   "metadata": {},
   "source": [
    "The distribution is highly skewed towards the `no-churn` users. That is why we will use the `F1` score to find the best model in the cross validation step."
   ]
  },
  {
   "cell_type": "markdown",
   "metadata": {},
   "source": [
    "#### Possible Pages"
   ]
  },
  {
   "cell_type": "code",
   "execution_count": 35,
   "metadata": {},
   "outputs": [
    {
     "name": "stdout",
     "output_type": "stream",
     "text": [
      "+--------------------+\n",
      "|                page|\n",
      "+--------------------+\n",
      "|    Submit Downgrade|\n",
      "|         Thumbs Down|\n",
      "|                Home|\n",
      "|           Downgrade|\n",
      "|         Roll Advert|\n",
      "|              Logout|\n",
      "|       Save Settings|\n",
      "|               About|\n",
      "|            Settings|\n",
      "|     Add to Playlist|\n",
      "|          Add Friend|\n",
      "|            NextSong|\n",
      "|           Thumbs Up|\n",
      "|                Help|\n",
      "|             Upgrade|\n",
      "|               Error|\n",
      "|      Submit Upgrade|\n",
      "|              Cancel|\n",
      "|Cancellation Conf...|\n",
      "+--------------------+\n",
      "\n"
     ]
    }
   ],
   "source": [
    "eda_df.select(\"page\").distinct().show()"
   ]
  },
  {
   "cell_type": "code",
   "execution_count": 36,
   "metadata": {},
   "outputs": [
    {
     "name": "stdout",
     "output_type": "stream",
     "text": [
      "+--------+\n",
      "|    page|\n",
      "+--------+\n",
      "|NextSong|\n",
      "+--------+\n",
      "\n"
     ]
    }
   ],
   "source": [
    "eda_df.filter(F.col(\"artist\") != \"unknown\").select(\"page\").distinct().show()"
   ]
  },
  {
   "cell_type": "markdown",
   "metadata": {},
   "source": [
    "The only page where music is played is called `NextSong`."
   ]
  },
  {
   "cell_type": "markdown",
   "metadata": {},
   "source": [
    "#### Gender Distribution"
   ]
  },
  {
   "cell_type": "code",
   "execution_count": 37,
   "metadata": {},
   "outputs": [
    {
     "name": "stderr",
     "output_type": "stream",
     "text": [
      "/tmp/ipykernel_17359/2841965689.py:3: FutureWarning: \n",
      "\n",
      "The `errcolor` parameter is deprecated. And will be removed in v0.15.0. Pass `err_kws={'color': '.5'}` instead.\n",
      "\n",
      "  sns.barplot(data=gender_distribution, x=\"churn\", y=\"count\", hue=\"gender\", errorbar=(\"pi\", 50), capsize=.4, errcolor=\".5\", linewidth=3, edgecolor=\".5\", ax=ax)\n"
     ]
    },
    {
     "data": {
      "image/png": "[encoded data removed]",
      "text/plain": [
       "<Figure size 1000x600 with 1 Axes>"
      ]
     },
     "metadata": {},
     "output_type": "display_data"
    }
   ],
   "source": [
    "gender_distribution = eda_df.select([\"churn\", \"userId\", \"gender\"]).distinct().groupby([\"churn\", \"gender\"]).count().toPandas()\n",
    "fig, ax = plt.subplots(1, 1, figsize=(10, 6))\n",
    "sns.barplot(data=gender_distribution, x=\"churn\", y=\"count\", hue=\"gender\", errorbar=(\"pi\", 50), capsize=.4, errcolor=\".5\", linewidth=3, edgecolor=\".5\", ax=ax)\n",
    "ax.set_title(\"Gender Distribution\", fontsize=20)\n",
    "ax.set_xlabel(\"0 = No-churn users; 1 = Churn users\", fontsize=14)\n",
    "ax.set_ylabel(\"Users\", fontsize=14)\n",
    "fig.savefig(\"images/gender_distribution.jpg\");"
   ]
  },
  {
   "cell_type": "markdown",
   "metadata": {},
   "source": [
    "Visually it seems that more males are in the churn group than females. But, we won't use this as a feature because the difference is not that big (to be 100%, we should statistically check the difference between the two distributions), and we don't want to bias the model towards gender."
   ]
  },
  {
   "cell_type": "markdown",
   "metadata": {
    "collapsed": false
   },
   "source": [
    "#### Time Delta Since Registration"
   ]
  },
  {
   "cell_type": "code",
   "execution_count": 38,
   "metadata": {
    "collapsed": false
   },
   "outputs": [
    {
     "data": {
      "text/html": [
       "<div>\n",
       "<style scoped>\n",
       "    .dataframe tbody tr th:only-of-type {\n",
       "        vertical-align: middle;\n",
       "    }\n",
       "\n",
       "    .dataframe tbody tr th {\n",
       "        vertical-align: top;\n",
       "    }\n",
       "\n",
       "    .dataframe thead th {\n",
       "        text-align: right;\n",
       "    }\n",
       "</style>\n",
       "<table border=\"1\" class=\"dataframe\">\n",
       "  <thead>\n",
       "    <tr style=\"text-align: right;\">\n",
       "      <th></th>\n",
       "      <th>churn</th>\n",
       "      <th>userId</th>\n",
       "      <th>timeSinceRegistration</th>\n",
       "    </tr>\n",
       "  </thead>\n",
       "  <tbody>\n",
       "    <tr>\n",
       "      <th>0</th>\n",
       "      <td>0</td>\n",
       "      <td>100</td>\n",
       "      <td>5605094000</td>\n",
       "    </tr>\n",
       "    <tr>\n",
       "      <th>1</th>\n",
       "      <td>0</td>\n",
       "      <td>100004</td>\n",
       "      <td>14898823000</td>\n",
       "    </tr>\n",
       "    <tr>\n",
       "      <th>2</th>\n",
       "      <td>1</td>\n",
       "      <td>100005</td>\n",
       "      <td>7360899000</td>\n",
       "    </tr>\n",
       "    <tr>\n",
       "      <th>3</th>\n",
       "      <td>1</td>\n",
       "      <td>100006</td>\n",
       "      <td>788587000</td>\n",
       "    </tr>\n",
       "    <tr>\n",
       "      <th>4</th>\n",
       "      <td>1</td>\n",
       "      <td>100007</td>\n",
       "      <td>9969490000</td>\n",
       "    </tr>\n",
       "    <tr>\n",
       "      <th>...</th>\n",
       "      <td>...</td>\n",
       "      <td>...</td>\n",
       "      <td>...</td>\n",
       "    </tr>\n",
       "    <tr>\n",
       "      <th>220</th>\n",
       "      <td>0</td>\n",
       "      <td>94</td>\n",
       "      <td>11431432000</td>\n",
       "    </tr>\n",
       "    <tr>\n",
       "      <th>221</th>\n",
       "      <td>0</td>\n",
       "      <td>95</td>\n",
       "      <td>5379812000</td>\n",
       "    </tr>\n",
       "    <tr>\n",
       "      <th>222</th>\n",
       "      <td>0</td>\n",
       "      <td>97</td>\n",
       "      <td>7550792000</td>\n",
       "    </tr>\n",
       "    <tr>\n",
       "      <th>223</th>\n",
       "      <td>0</td>\n",
       "      <td>115</td>\n",
       "      <td>6431581000</td>\n",
       "    </tr>\n",
       "    <tr>\n",
       "      <th>224</th>\n",
       "      <td>0</td>\n",
       "      <td>200025</td>\n",
       "      <td>10108410000</td>\n",
       "    </tr>\n",
       "  </tbody>\n",
       "</table>\n",
       "<p>225 rows × 3 columns</p>\n",
       "</div>"
      ],
      "text/plain": [
       "     churn  userId  timeSinceRegistration\n",
       "0        0     100             5605094000\n",
       "1        0  100004            14898823000\n",
       "2        1  100005             7360899000\n",
       "3        1  100006              788587000\n",
       "4        1  100007             9969490000\n",
       "..     ...     ...                    ...\n",
       "220      0      94            11431432000\n",
       "221      0      95             5379812000\n",
       "222      0      97             7550792000\n",
       "223      0     115             6431581000\n",
       "224      0  200025            10108410000\n",
       "\n",
       "[225 rows x 3 columns]"
      ]
     },
     "execution_count": 38,
     "metadata": {},
     "output_type": "execute_result"
    }
   ],
   "source": [
    "registration_delta_distribution = eda_df.alias(\"registration_delta_distribution\")\n",
    "registration_delta_distribution = registration_delta_distribution.withColumn(\"timeSinceRegistration\", F.col(\"ts\") - F.col(\"registration\"))\n",
    "registration_delta_distribution = registration_delta_distribution \\\n",
    "    .select([\"churn\", \"userId\", \"timeSinceRegistration\"]) \\\n",
    "    .groupby([\"churn\", \"userId\"]) \\\n",
    "    .agg(F.max(F.col(\"timeSinceRegistration\")).alias(\"timeSinceRegistration\")) \\\n",
    "    .toPandas()\n",
    "registration_delta_distribution"
   ]
  },
  {
   "cell_type": "code",
   "execution_count": 39,
   "metadata": {
    "collapsed": false
   },
   "outputs": [
    {
     "data": {
      "image/png": "[encoded data removed]",
      "text/plain": [
       "<Figure size 1000x600 with 1 Axes>"
      ]
     },
     "metadata": {},
     "output_type": "display_data"
    }
   ],
   "source": [
    "fig, ax = plt.subplots(1, 1, figsize=(10, 6))\n",
    "sns.histplot(\n",
    "    data=registration_delta_distribution,\n",
    "    x=\"timeSinceRegistration\",\n",
    "    hue=\"churn\",\n",
    "    multiple=\"stack\",\n",
    "    linewidth=3,\n",
    "    edgecolor=\".5\",\n",
    "    element=\"step\",\n",
    "    ax=ax,\n",
    ")\n",
    "ax.set_title(\"Time Delta Since Registration Distribution\", fontsize=20)\n",
    "ax.set_xlabel(\"Time Delta since registration (in seconds)\\n0 = No-churn users; 1 = Churn users\", fontsize=14)\n",
    "ax.set_ylabel(\"Users\", fontsize=14)\n",
    "fig.savefig(\"images/registration_delta_distribution.jpg\");"
   ]
  },
  {
   "cell_type": "markdown",
   "metadata": {
    "collapsed": false
   },
   "source": [
    "It looks like the timedelta since registration, for churn users, is right skewed. While the no-churn one is pretty normal. The mean of the timedelta is a good predictor."
   ]
  },
  {
   "cell_type": "markdown",
   "metadata": {
    "collapsed": false
   },
   "source": [
    "#### Event Status Distribution"
   ]
  },
  {
   "cell_type": "code",
   "execution_count": 40,
   "metadata": {
    "collapsed": false
   },
   "outputs": [
    {
     "name": "stderr",
     "output_type": "stream",
     "text": [
      "/tmp/ipykernel_17359/1735499370.py:3: FutureWarning: \n",
      "\n",
      "The `errcolor` parameter is deprecated. And will be removed in v0.15.0. Pass `err_kws={'color': '.5'}` instead.\n",
      "\n",
      "  sns.barplot(data=event_status_distribution, x=\"churn\", y=\"count\", hue=\"status\", errorbar=(\"pi\", 50), capsize=.4, errcolor=\".5\", linewidth=3, edgecolor=\".5\", ax=ax)\n"
     ]
    },
    {
     "data": {
      "image/png": "[encoded data removed]",
      "text/plain": [
       "<Figure size 1000x600 with 1 Axes>"
      ]
     },
     "metadata": {},
     "output_type": "display_data"
    }
   ],
   "source": [
    "event_status_distribution = eda_df.select([\"churn\", \"userId\", \"status\"]).distinct().groupby([\"churn\", \"status\"]).count().toPandas()\n",
    "fig, ax = plt.subplots(1, 1, figsize=(10, 6))\n",
    "sns.barplot(data=event_status_distribution, x=\"churn\", y=\"count\", hue=\"status\", errorbar=(\"pi\", 50), capsize=.4, errcolor=\".5\", linewidth=3, edgecolor=\".5\", ax=ax)\n",
    "ax.set_title(\"Event Status Distribution\", fontsize=20)\n",
    "ax.set_xlabel(\"0 = No-churn users; 1 = Churn users\", fontsize=14)\n",
    "ax.set_ylabel(\"HTTP Status\", fontsize=14)\n",
    "fig.savefig(\"images/event_status_distribution.jpg\");"
   ]
  },
  {
   "cell_type": "markdown",
   "metadata": {
    "collapsed": false
   },
   "source": [
    "The only status type that could mess with the user experience is `404`. But as we can see, it is evenly distributed between the `churn` and `no-churn` groups.\n",
    "\n",
    "*NOTE:* A more robust verification can be performed with a proportion statistical test."
   ]
  },
  {
   "cell_type": "markdown",
   "metadata": {},
   "source": [
    "#### Distribution of the Average Number of Visited Pages by Every User"
   ]
  },
  {
   "cell_type": "code",
   "execution_count": 41,
   "metadata": {},
   "outputs": [
    {
     "name": "stderr",
     "output_type": "stream",
     "text": [
      "/tmp/ipykernel_17359/3177557139.py:3: FutureWarning: \n",
      "\n",
      "The `errcolor` parameter is deprecated. And will be removed in v0.15.0. Pass `err_kws={'color': '.5'}` instead.\n",
      "\n",
      "  sns.barplot(data=visited_pages_distribution, x=\"churn\", y=\"Average Visited Pages\", errorbar=(\"pi\", 50), capsize=.4, errcolor=\".5\", linewidth=3, edgecolor=\".5\", ax=ax)\n"
     ]
    },
    {
     "data": {
      "image/png": "[encoded data removed]",
      "text/plain": [
       "<Figure size 1000x600 with 1 Axes>"
      ]
     },
     "metadata": {},
     "output_type": "display_data"
    }
   ],
   "source": [
    "visited_pages_distribution = eda_df.groupby([\"churn\", \"userId\"]).count().groupby(\"churn\").agg(F.avg(\"count\").alias(\"Average Visited Pages\")).toPandas()\n",
    "fig, ax = plt.subplots(1, 1, figsize=(10, 6))\n",
    "sns.barplot(data=visited_pages_distribution, x=\"churn\", y=\"Average Visited Pages\", errorbar=(\"pi\", 50), capsize=.4, errcolor=\".5\", linewidth=3, edgecolor=\".5\", ax=ax)\n",
    "ax.set_title(\"Average Visited Pages\", fontsize=20)\n",
    "ax.set_xlabel(\"0 = No-churn users; 1 = Churn users\", fontsize=14)\n",
    "ax.set_ylabel(\"Number of visited pages\", fontsize=14)\n",
    "fig.savefig(\"images/visited_pages_distribution.jpg\");"
   ]
  },
  {
   "cell_type": "markdown",
   "metadata": {},
   "source": [
    "Users that remained on the platform, on average, visited more pages."
   ]
  },
  {
   "cell_type": "markdown",
   "metadata": {},
   "source": [
    "#### Distribution of the Average Number of Songs Listened by Every User"
   ]
  },
  {
   "cell_type": "code",
   "execution_count": 42,
   "metadata": {},
   "outputs": [
    {
     "name": "stderr",
     "output_type": "stream",
     "text": [
      "/tmp/ipykernel_17359/3139168739.py:3: FutureWarning: \n",
      "\n",
      "The `errcolor` parameter is deprecated. And will be removed in v0.15.0. Pass `err_kws={'color': '.5'}` instead.\n",
      "\n",
      "  sns.barplot(data=listened_songs_distribution, x=\"churn\", y=\"Average Songs Played\", errorbar=(\"pi\", 50), capsize=.4, errcolor=\".5\", linewidth=3, edgecolor=\".5\", ax=ax)\n"
     ]
    },
    {
     "data": {
      "image/png": "[encoded data removed]",
      "text/plain": [
       "<Figure size 1000x600 with 1 Axes>"
      ]
     },
     "metadata": {},
     "output_type": "display_data"
    }
   ],
   "source": [
    "listened_songs_distribution = eda_df.where(F.col(\"artist\") != \"unknown\").groupby([\"churn\", \"userId\"]).count().groupby(\"churn\").agg(F.avg(\"count\").alias(\"Average Songs Played\")).toPandas()\n",
    "fig, ax = plt.subplots(1, 1, figsize=(10, 6))\n",
    "sns.barplot(data=listened_songs_distribution, x=\"churn\", y=\"Average Songs Played\", errorbar=(\"pi\", 50), capsize=.4, errcolor=\".5\", linewidth=3, edgecolor=\".5\", ax=ax)\n",
    "ax.set_title(\"Average Songs Played\", fontsize=20)\n",
    "ax.set_xlabel(\"0 = No-churn users; 1 = Churn users\", fontsize=14)\n",
    "ax.set_ylabel(\"Number of songs Played\", fontsize=14)\n",
    "fig.savefig(\"images/listened_songs_distribution.jpg\");"
   ]
  },
  {
   "cell_type": "markdown",
   "metadata": {},
   "source": [
    "Users that remained on the platform, on average, are listening to more songs."
   ]
  },
  {
   "cell_type": "markdown",
   "metadata": {},
   "source": [
    "#### Distribution of the Average Number of Artists Listened by Every User"
   ]
  },
  {
   "cell_type": "code",
   "execution_count": 43,
   "metadata": {},
   "outputs": [
    {
     "name": "stderr",
     "output_type": "stream",
     "text": [
      "/tmp/ipykernel_17359/3133438474.py:11: FutureWarning: \n",
      "\n",
      "The `errcolor` parameter is deprecated. And will be removed in v0.15.0. Pass `err_kws={'color': '.5'}` instead.\n",
      "\n",
      "  sns.barplot(data=listened_artists_distribution, x=\"churn\", y=\"Average Listened Artists\", errorbar=(\"pi\", 50), capsize=.4, errcolor=\".5\", linewidth=3, edgecolor=\".5\", ax=ax)\n"
     ]
    },
    {
     "data": {
      "image/png": "[encoded data removed]",
      "text/plain": [
       "<Figure size 1000x600 with 1 Axes>"
      ]
     },
     "metadata": {},
     "output_type": "display_data"
    }
   ],
   "source": [
    "listened_artists_distribution = eda_df \\\n",
    "    .select([\"artist\", \"userId\", \"churn\"]) \\\n",
    "    .where(F.col(\"artist\") != \"unknown\") \\\n",
    "    .distinct() \\\n",
    "    .groupby([\"churn\", \"userId\"]) \\\n",
    "    .count() \\\n",
    "    .groupby(\"churn\") \\\n",
    "    .agg(F.avg(\"count\").alias(\"Average Listened Artists\")) \\\n",
    "    .toPandas()\n",
    "fig, ax = plt.subplots(1, 1, figsize=(10, 6))\n",
    "sns.barplot(data=listened_artists_distribution, x=\"churn\", y=\"Average Listened Artists\", errorbar=(\"pi\", 50), capsize=.4, errcolor=\".5\", linewidth=3, edgecolor=\".5\", ax=ax)\n",
    "ax.set_title(\"Average Listened Artists\", fontsize=20)\n",
    "ax.set_xlabel(\"0 = No-churn users; 1 = Churn users\", fontsize=14)\n",
    "ax.set_ylabel(\"Number of listened artists\", fontsize=14)\n",
    "fig.savefig(\"images/listened_artists_distribution.jpg\");"
   ]
  },
  {
   "cell_type": "markdown",
   "metadata": {
    "collapsed": false
   },
   "source": [
    "On average, users that remain on the platform are listening to a wider variety of artists."
   ]
  },
  {
   "cell_type": "markdown",
   "metadata": {},
   "source": [
    "#### Average Seconds of Listened Music"
   ]
  },
  {
   "cell_type": "code",
   "execution_count": 44,
   "metadata": {},
   "outputs": [
    {
     "name": "stderr",
     "output_type": "stream",
     "text": [
      "/tmp/ipykernel_17359/2422526345.py:10: FutureWarning: \n",
      "\n",
      "The `errcolor` parameter is deprecated. And will be removed in v0.15.0. Pass `err_kws={'color': '.5'}` instead.\n",
      "\n",
      "  sns.barplot(data=average_listened_seconds_distribution, x=\"churn\", y=\"Average Seconds of Listened Music\", errorbar=(\"pi\", 50), capsize=.4, errcolor=\".5\", linewidth=3, edgecolor=\".5\", ax=ax)\n"
     ]
    },
    {
     "data": {
      "image/png": "[encoded data removed]",
      "text/plain": [
       "<Figure size 1000x600 with 1 Axes>"
      ]
     },
     "metadata": {},
     "output_type": "display_data"
    }
   ],
   "source": [
    "average_listened_seconds_distribution = eda_df \\\n",
    "    .select([\"artist\", \"userId\", \"churn\", \"length\"]) \\\n",
    "    .where(F.col(\"artist\") != \"unknown\") \\\n",
    "    .groupby([\"churn\", \"userId\"]) \\\n",
    "    .agg(F.avg(F.col(\"length\")).alias(\"averageLength\")) \\\n",
    "    .groupby(\"churn\") \\\n",
    "    .agg(F.avg(F.col(\"averageLength\")).alias(\"Average Seconds of Listened Music\")) \\\n",
    "    .toPandas()\n",
    "fig, ax = plt.subplots(1, 1, figsize=(10, 6))\n",
    "sns.barplot(data=average_listened_seconds_distribution, x=\"churn\", y=\"Average Seconds of Listened Music\", errorbar=(\"pi\", 50), capsize=.4, errcolor=\".5\", linewidth=3, edgecolor=\".5\", ax=ax)\n",
    "ax.set_title(\"Average Seconds of Listened Music\", fontsize=20)\n",
    "ax.set_xlabel(\"0 = No-churn users; 1 = Churn users\", fontsize=14)\n",
    "ax.set_ylabel(\"Listened seconds of music\", fontsize=14)\n",
    "fig.savefig(\"images/average_listened_seconds_distribution.jpg\");"
   ]
  },
  {
   "cell_type": "markdown",
   "metadata": {},
   "source": [
    "The average seconds of listened music is similar for both churn and no-churn groups. Therefore, this feature won't have much predictive power."
   ]
  },
  {
   "cell_type": "markdown",
   "metadata": {
    "collapsed": false
   },
   "source": [
    "#### Different Level of Users"
   ]
  },
  {
   "cell_type": "code",
   "execution_count": 45,
   "metadata": {
    "collapsed": false
   },
   "outputs": [
    {
     "name": "stderr",
     "output_type": "stream",
     "text": [
      "/tmp/ipykernel_17359/904085033.py:8: FutureWarning: \n",
      "\n",
      "The `errcolor` parameter is deprecated. And will be removed in v0.15.0. Pass `err_kws={'color': '.5'}` instead.\n",
      "\n",
      "  sns.barplot(data=levels_distribution, x=\"churn\", y=\"Levels of Users\", hue=\"level\", errorbar=(\"pi\", 50), capsize=.4, errcolor=\".5\", linewidth=3, edgecolor=\".5\", ax=ax)\n"
     ]
    },
    {
     "data": {
      "image/png": "[encoded data removed]",
      "text/plain": [
       "<Figure size 1000x600 with 1 Axes>"
      ]
     },
     "metadata": {},
     "output_type": "display_data"
    }
   ],
   "source": [
    "levels_distribution = eda_df \\\n",
    "    .select([\"userId\", \"level\", \"churn\"]) \\\n",
    "    .distinct() \\\n",
    "    .groupby(\"churn\", \"level\") \\\n",
    "    .agg(F.count(F.col(\"userId\")).alias(\"Levels of Users\")) \\\n",
    "    .toPandas()\n",
    "fig, ax = plt.subplots(1, 1, figsize=(10, 6))\n",
    "sns.barplot(data=levels_distribution, x=\"churn\", y=\"Levels of Users\", hue=\"level\", errorbar=(\"pi\", 50), capsize=.4, errcolor=\".5\", linewidth=3, edgecolor=\".5\", ax=ax)\n",
    "ax.set_title(\"Free vs. Paid Users\", fontsize=20)\n",
    "ax.set_xlabel(\"0 = No-churn users; 1 = Churn users\", fontsize=14)\n",
    "ax.set_ylabel(\"Number of Users\", fontsize=14)\n",
    "fig.savefig(\"images/levels_distribution.jpg\");"
   ]
  },
  {
   "cell_type": "code",
   "execution_count": 46,
   "metadata": {
    "collapsed": false
   },
   "outputs": [
    {
     "data": {
      "text/html": [
       "<div>\n",
       "<style scoped>\n",
       "    .dataframe tbody tr th:only-of-type {\n",
       "        vertical-align: middle;\n",
       "    }\n",
       "\n",
       "    .dataframe tbody tr th {\n",
       "        vertical-align: top;\n",
       "    }\n",
       "\n",
       "    .dataframe thead th {\n",
       "        text-align: right;\n",
       "    }\n",
       "</style>\n",
       "<table border=\"1\" class=\"dataframe\">\n",
       "  <thead>\n",
       "    <tr style=\"text-align: right;\">\n",
       "      <th></th>\n",
       "      <th>churn</th>\n",
       "      <th>level</th>\n",
       "      <th>Levels of Users</th>\n",
       "    </tr>\n",
       "  </thead>\n",
       "  <tbody>\n",
       "    <tr>\n",
       "      <th>0</th>\n",
       "      <td>0</td>\n",
       "      <td>free</td>\n",
       "      <td>149</td>\n",
       "    </tr>\n",
       "    <tr>\n",
       "      <th>1</th>\n",
       "      <td>0</td>\n",
       "      <td>paid</td>\n",
       "      <td>129</td>\n",
       "    </tr>\n",
       "    <tr>\n",
       "      <th>2</th>\n",
       "      <td>1</td>\n",
       "      <td>paid</td>\n",
       "      <td>36</td>\n",
       "    </tr>\n",
       "    <tr>\n",
       "      <th>3</th>\n",
       "      <td>1</td>\n",
       "      <td>free</td>\n",
       "      <td>46</td>\n",
       "    </tr>\n",
       "  </tbody>\n",
       "</table>\n",
       "</div>"
      ],
      "text/plain": [
       "   churn level  Levels of Users\n",
       "0      0  free              149\n",
       "1      0  paid              129\n",
       "2      1  paid               36\n",
       "3      1  free               46"
      ]
     },
     "execution_count": 46,
     "metadata": {},
     "output_type": "execute_result"
    }
   ],
   "source": [
    "levels_distribution"
   ]
  },
  {
   "cell_type": "code",
   "execution_count": 47,
   "metadata": {
    "collapsed": false
   },
   "outputs": [
    {
     "name": "stdout",
     "output_type": "stream",
     "text": [
      "Paid users proportion for no-churn users: 46.40%\n"
     ]
    }
   ],
   "source": [
    "no_churn_users = levels_distribution[levels_distribution[\"churn\"] == 0]\n",
    "paid_users_proportion = no_churn_users.iloc[1][\"Levels of Users\"] / no_churn_users[\"Levels of Users\"].sum()\n",
    "print(f\"Paid users proportion for no-churn users: {paid_users_proportion*100:.2f}%\")"
   ]
  },
  {
   "cell_type": "code",
   "execution_count": 48,
   "metadata": {
    "collapsed": false
   },
   "outputs": [
    {
     "name": "stdout",
     "output_type": "stream",
     "text": [
      "Paid users proportion for churn users: 43.90%\n"
     ]
    }
   ],
   "source": [
    "no_churn_users = levels_distribution[levels_distribution[\"churn\"] == 1]\n",
    "paid_users_proportion = no_churn_users.iloc[0][\"Levels of Users\"] / no_churn_users[\"Levels of Users\"].sum()\n",
    "print(f\"Paid users proportion for churn users: {paid_users_proportion*100:.2f}%\")"
   ]
  },
  {
   "cell_type": "markdown",
   "metadata": {
    "collapsed": false
   },
   "source": [
    "There is no huge difference for the users that are paying for a subscription between the churn and no-churn groups.\n",
    "\n",
    "*Note:* A more robust verification can be done with a proportion statistical test."
   ]
  },
  {
   "cell_type": "markdown",
   "metadata": {},
   "source": [
    "# Feature Engineering"
   ]
  },
  {
   "cell_type": "markdown",
   "metadata": {},
   "source": [
    "#### Aggregate Data at the User Level\n",
    "The churn classification will be performed at the user level. Therefore, we need to aggregate the data for every user. All the features will be a result of this aggregation."
   ]
  },
  {
   "cell_type": "code",
   "execution_count": 49,
   "metadata": {},
   "outputs": [],
   "source": [
    "def count_with_condition(condition):\n",
    "    \"\"\"Utility function to count only specific rows based on the 'condition'.\"\"\"\n",
    "    return F.count(F.when(condition, True))\n",
    "\n",
    "\n",
    "def count_distinct_with_condition(condition, values):\n",
    "    \"\"\"Utility function to count only distinct & specific rows based on the 'condition'.\"\"\"\n",
    "    return F.count_distinct(F.when(condition, values))"
   ]
  },
  {
   "cell_type": "markdown",
   "metadata": {
    "collapsed": false
   },
   "source": [
    "Based on the EDA step, we chose the features that divide the most the `churn` and `no-churn` user groups:\n",
    "- The total number of visited pages.\n",
    "- The total number of songs played.\n",
    "- The total number of total artists.\n",
    "- Timestamp since registration (in seconds)"
   ]
  },
  {
   "cell_type": "code",
   "execution_count": 50,
   "metadata": {},
   "outputs": [
    {
     "name": "stdout",
     "output_type": "stream",
     "text": [
      "+------+---------------+-------------+---------------+--------------------------+-----+\n",
      "|userId|numPagesVisited|numTotalPlays|numTotalArtists|timedeltaSinceRegistration|churn|\n",
      "+------+---------------+-------------+---------------+--------------------------+-----+\n",
      "|100010|            381|          275|            252|                4807612000|    0|\n",
      "|100014|            310|          257|            233|                7351206000|    1|\n",
      "|100021|            319|          230|            207|                5593438000|    1|\n",
      "|   101|           2149|         1797|           1241|                4662657000|    1|\n",
      "|    11|            848|          647|            534|               10754921000|    0|\n",
      "+------+---------------+-------------+---------------+--------------------------+-----+\n",
      "only showing top 5 rows\n",
      "\n"
     ]
    }
   ],
   "source": [
    "aggregated_df = labeled_df.groupby(\"userId\").agg(\n",
    "    F.count(\"page\").alias(\"numPagesVisited\"),\n",
    "    count_with_condition(F.col(\"page\") == \"NextSong\").alias(\"numTotalPlays\"),\n",
    "    count_distinct_with_condition(F.col(\"artist\") != \"unknown\", F.col(\"artist\")).alias(\"numTotalArtists\"),\n",
    "    F.max(F.col(\"ts\") - F.col(\"registration\")).alias(\"timedeltaSinceRegistration\"),\n",
    "    F.max(\"churn\").alias(\"churn\")\n",
    ")\n",
    "aggregated_df.show(n=5)"
   ]
  },
  {
   "cell_type": "markdown",
   "metadata": {},
   "source": [
    "#### Create the Feature Vector and Labels"
   ]
  },
  {
   "cell_type": "code",
   "execution_count": 51,
   "metadata": {},
   "outputs": [
    {
     "name": "stdout",
     "output_type": "stream",
     "text": [
      "+--------------------+-----+\n",
      "|   unscaled_features|label|\n",
      "+--------------------+-----+\n",
      "|[381.0,275.0,4.80...|    0|\n",
      "|[310.0,257.0,7.35...|    1|\n",
      "|[319.0,230.0,5.59...|    1|\n",
      "|[2149.0,1797.0,4....|    1|\n",
      "|[848.0,647.0,1.07...|    0|\n",
      "|[4825.0,4079.0,1....|    0|\n",
      "|[11.0,8.0,6.16177...|    1|\n",
      "|[2304.0,1928.0,5....|    0|\n",
      "|[2469.0,2070.0,5....|    0|\n",
      "|[2278.0,1914.0,4....|    0|\n",
      "|[118.0,84.0,2.062...|    0|\n",
      "|[1002.0,820.0,2.0...|    0|\n",
      "|[474.0,387.0,6.05...|    0|\n",
      "|[3603.0,3028.0,5....|    1|\n",
      "|[4428.0,3632.0,6....|    0|\n",
      "|[2464.0,2111.0,1....|    1|\n",
      "|[3437.0,2841.0,9....|    1|\n",
      "|[1342.0,1125.0,6....|    0|\n",
      "|[201.0,150.0,6.28...|    0|\n",
      "|[964.0,681.0,4.14...|    1|\n",
      "+--------------------+-----+\n",
      "only showing top 20 rows\n",
      "\n"
     ]
    }
   ],
   "source": [
    "assembler = VectorAssembler(inputCols=[\"numPagesVisited\", \"numTotalPlays\", \"timedeltaSinceRegistration\", \"numTotalArtists\"], outputCol=\"unscaled_features\")\n",
    "engineered_df = assembler.transform(aggregated_df)\n",
    "engineered_df = engineered_df.select(F.col(\"unscaled_features\"), F.col(\"churn\").alias(\"label\"))\n",
    "engineered_df.show()"
   ]
  },
  {
   "cell_type": "markdown",
   "metadata": {},
   "source": [
    "# Modeling\n",
    "We will train and test three models:\n",
    "- Logistic Regression\n",
    "- Naive Bayes\n",
    "- Gradient Boosting Tree\n",
    "\n",
    "We will use cross-validation with 3 folds to find the best hyper-parameters.\n",
    "\n",
    "We will use 80% in the train split and 20% in the test split.\n",
    "\n",
    "We normalized the features using a StandardScaler.\n",
    "\n",
    "Because the labels are highly imbalanced, we will use the `F1 score` to evaluate the models. The F1 score metric is using under the hood the precision and recall which are taking into consideration the unbalanced distribution issue."
   ]
  },
  {
   "cell_type": "code",
   "execution_count": 52,
   "metadata": {},
   "outputs": [],
   "source": [
    "def run(pipeline, paramGrid, train_df, test_df):\n",
    "    \"\"\"\n",
    "    Main function used to train & test a given model.\n",
    "    The training step uses cross-validation to find the best hyper-parameters for the model.\n",
    "\n",
    "    :param pipeline: Model pipeline.\n",
    "    :param paramGrid: Parameter grid used for cross-validation.\n",
    "    :param train_df: Training dataframe.\n",
    "    :param test_df: Testing dataframe.\n",
    "    :return: the best model from cross-validation.\n",
    "    \"\"\"\n",
    "\n",
    "    fitted_model = fit_model(paramGrid, pipeline, train_df)\n",
    "    evaluate_model(fitted_model, test_df)\n",
    "\n",
    "    return fitted_model\n",
    "\n",
    "\n",
    "def fit_model(paramGrid, pipeline, train_df):\n",
    "    \"\"\"\n",
    "    Function that trains the model using cross-validation.\n",
    "    Also, it prints the best validation results and hyper-parameters.\n",
    "\n",
    "    :param paramGrid: Parameter grid used for cross-validation.\n",
    "    :param pipeline: Model pipeline.\n",
    "    :param train_df: Training dataframe.\n",
    "    :return: the best model from cross-validation.\n",
    "    \"\"\"\n",
    "\n",
    "    crossval = CrossValidator(\n",
    "        estimator=pipeline,\n",
    "        estimatorParamMaps=paramGrid,\n",
    "        evaluator=MulticlassClassificationEvaluator(metricName=\"f1\", beta=1.0),\n",
    "        parallelism=3,\n",
    "        numFolds=3\n",
    "    )\n",
    "\n",
    "    fitted_model = crossval.fit(train_df)\n",
    "    print_best_validation_score(fitted_model)\n",
    "    print_best_parameters(fitted_model)\n",
    "\n",
    "    return fitted_model\n",
    "\n",
    "\n",
    "def create_pipeline(model):\n",
    "    \"\"\"\n",
    "    Create a pipeline based on a model.\n",
    "\n",
    "    :param model: The end model that will be used for training.\n",
    "    :return: the built pipeline.\n",
    "    \"\"\"\n",
    "\n",
    "    scaler = StandardScaler(inputCol=\"unscaled_features\", outputCol=\"features\")\n",
    "    pipeline = Pipeline(stages=[scaler, model])\n",
    "\n",
    "    return pipeline\n",
    "\n",
    "\n",
    "def print_best_validation_score(cross_validation_model):\n",
    "    \"\"\"Prints the best validation score based on the results from the cross-validation model.\"\"\"\n",
    "    print()\n",
    "    print(\"-\" * 60)\n",
    "    print(f\"F1 score, on the validation split, for the best model: {np.max(cross_validation_model.avgMetrics) * 100:.2f}%\")\n",
    "    print(\"-\" * 60)\n",
    "\n",
    "\n",
    "def print_best_parameters(cross_validation_model):\n",
    "    \"\"\"Prints the best hyper-parameters based on the results from the cross-validation model.\"\"\"\n",
    "\n",
    "    parameters = cross_validation_model.getEstimatorParamMaps()[np.argmax(cross_validation_model.avgMetrics)]\n",
    "\n",
    "    print()\n",
    "    print(\"-\" * 60)\n",
    "    print(\"Best model hyper-parameters:\")\n",
    "    for param, value in parameters.items():\n",
    "        print(f\"{param}: {value}\")\n",
    "    print(\"-\" * 60)\n",
    "\n",
    "\n",
    "def evaluate_model(model, test_df):\n",
    "    \"\"\"Evaluate the model on the test set using F1 score and print the results.\"\"\"\n",
    "\n",
    "    predictions = model.transform(test_df)\n",
    "    evaluator =  MulticlassClassificationEvaluator(metricName=\"f1\", beta=1.0)\n",
    "    metric = evaluator.evaluate(predictions)\n",
    "\n",
    "    print()\n",
    "    print(\"-\" * 60)\n",
    "    print(f\"F1 score, on the test set is: {metric*100:.2f}%\")\n",
    "    print(\"-\" * 60)\n",
    "\n",
    "    return metric"
   ]
  },
  {
   "cell_type": "markdown",
   "metadata": {},
   "source": [
    "## Split the Data"
   ]
  },
  {
   "cell_type": "code",
   "execution_count": 53,
   "metadata": {},
   "outputs": [],
   "source": [
    "train_df, test_df = engineered_df.randomSplit([0.8, 0.2], seed=42)"
   ]
  },
  {
   "cell_type": "markdown",
   "metadata": {},
   "source": [
    "## Logistic Regression"
   ]
  },
  {
   "cell_type": "code",
   "execution_count": 54,
   "metadata": {},
   "outputs": [],
   "source": [
    "lr = LogisticRegression()\n",
    "pipeline = create_pipeline(lr)\n",
    "\n",
    "paramGrid = ParamGridBuilder() \\\n",
    "    .addGrid(lr.maxIter, [10, 25, 50])  \\\n",
    "    .addGrid(lr.regParam, [0.05, 0.1, 0.2]) \\\n",
    "    .addGrid(lr.elasticNetParam, [0.05, 0.1, 0.2]) \\\n",
    "    .build()"
   ]
  },
  {
   "cell_type": "code",
   "execution_count": 55,
   "metadata": {},
   "outputs": [
    {
     "name": "stderr",
     "output_type": "stream",
     "text": [
      "24/05/27 17:29:24 WARN InstanceBuilder: Failed to load implementation from:dev.ludovic.netlib.blas.JNIBLAS\n",
      "24/05/27 17:30:07 WARN BlockManager: Asked to remove block broadcast_1584, which does not exist\n",
      "                                                                                ]\r"
     ]
    },
    {
     "name": "stdout",
     "output_type": "stream",
     "text": [
      "\n",
      "------------------------------------------------------------\n",
      "F1 score, on the validation split, for the best model: 73.53%\n",
      "------------------------------------------------------------\n",
      "\n",
      "------------------------------------------------------------\n",
      "Best model hyper-parameters:\n",
      "LogisticRegression_15cee739104c__maxIter: 10\n",
      "LogisticRegression_15cee739104c__regParam: 0.05\n",
      "LogisticRegression_15cee739104c__elasticNetParam: 0.05\n",
      "------------------------------------------------------------\n",
      "\n",
      "------------------------------------------------------------\n",
      "F1 score, on the test set is: 56.41%\n",
      "------------------------------------------------------------\n"
     ]
    }
   ],
   "source": [
    "run(pipeline, paramGrid, train_df.alias(\"train_df_lr\"), test_df.alias(\"test_df_lr\"));"
   ]
  },
  {
   "cell_type": "markdown",
   "metadata": {},
   "source": [
    "## Naive Bayes"
   ]
  },
  {
   "cell_type": "code",
   "execution_count": 56,
   "metadata": {},
   "outputs": [],
   "source": [
    "nb = NaiveBayes()\n",
    "pipeline = create_pipeline(nb)\n",
    "\n",
    "paramGrid = ParamGridBuilder() \\\n",
    "    .addGrid(nb.smoothing, [0.5, 1, 2])  \\\n",
    "    .build()"
   ]
  },
  {
   "cell_type": "code",
   "execution_count": 57,
   "metadata": {},
   "outputs": [
    {
     "name": "stdout",
     "output_type": "stream",
     "text": [
      "\n",
      "------------------------------------------------------------\n",
      "F1 score, on the validation split, for the best model: 66.32%\n",
      "------------------------------------------------------------\n",
      "\n",
      "------------------------------------------------------------\n",
      "Best model hyper-parameters:\n",
      "NaiveBayes_313ca47e7d08__smoothing: 0.5\n",
      "------------------------------------------------------------\n",
      "\n",
      "------------------------------------------------------------\n",
      "F1 score, on the test set is: 56.41%\n",
      "------------------------------------------------------------\n"
     ]
    }
   ],
   "source": [
    "run(pipeline, paramGrid, train_df.alias(\"train_df_nb\"), test_df.alias(\"test_df_nb\"));"
   ]
  },
  {
   "cell_type": "markdown",
   "metadata": {},
   "source": [
    "## Gradient Boosting"
   ]
  },
  {
   "cell_type": "code",
   "execution_count": 58,
   "metadata": {},
   "outputs": [],
   "source": [
    "gbt = GBTClassifier()\n",
    "pipeline = create_pipeline(gbt)\n",
    "\n",
    "paramGrid = ParamGridBuilder() \\\n",
    "    .addGrid(gbt.maxIter, [10, 20, 30]) \\\n",
    "    .addGrid(gbt.stepSize, [0.05, 0.1]) \\\n",
    "    .build()"
   ]
  },
  {
   "cell_type": "code",
   "execution_count": 59,
   "metadata": {},
   "outputs": [
    {
     "name": "stderr",
     "output_type": "stream",
     "text": [
      "                                                                                ]\r"
     ]
    },
    {
     "name": "stdout",
     "output_type": "stream",
     "text": [
      "\n",
      "------------------------------------------------------------\n",
      "F1 score, on the validation split, for the best model: 75.69%\n",
      "------------------------------------------------------------\n",
      "\n",
      "------------------------------------------------------------\n",
      "Best model hyper-parameters:\n",
      "GBTClassifier_6a68d58c4a9f__maxIter: 30\n",
      "GBTClassifier_6a68d58c4a9f__stepSize: 0.1\n",
      "------------------------------------------------------------\n",
      "\n",
      "------------------------------------------------------------\n",
      "F1 score, on the test set is: 74.79%\n",
      "------------------------------------------------------------\n"
     ]
    }
   ],
   "source": [
    "run(pipeline, paramGrid, train_df.alias(\"train_df_gbt\"), test_df.alias(\"test_df_gbt\"));"
   ]
  },
  {
   "cell_type": "markdown",
   "metadata": {},
   "source": [
    "# Results\n",
    "\n",
    "|        Model        | Validation |   Test   |\n",
    "|:-------------------:|:----------:|:--------:|\n",
    "| Logistic Regression |   0.6958   |  0.5952  |\n",
    "|     Naive Bayes     |   0.6672   |  0.5952  |\n",
    "|  Gradient Boosting  |  *0.7333*  | *0.8473* |\n",
    "\n",
    "The GBT model has a better `F1 score` than Logistic Regression and Naive Bayes. This is because GBT is a more complex model that can understand non-linear relationships better.\n",
    "\n",
    "Usually,  Gradient Boosting methods perform better than other methods such as LR or NB without taking into consideration factors such as correlation between two variables or non-linear relationships. Tree base models are not sensitive to those issues because they create leaves independently."
   ]
  },
  {
   "cell_type": "markdown",
   "metadata": {
    "collapsed": false
   },
   "source": [
    "# Conclusion\n",
    "\n",
    "Great! We managed to train a decent classifier using only Spark.\n",
    "\n",
    "We loaded the dataset, cleaned it, analyzed it, and in the end, we created a set of useful features to predict customer churn.\n",
    "\n",
    "With the engineered data, we trained and tested three churn prediction models. By using cross-validation, we find the best hyper-parameters for the following models:\n",
    "- Logistic Regression\n",
    "- Naive Bayes\n",
    "- Gradient Boosting\n",
    "We compared the results and saw that the GBT model had the highest `F1 score` on the validation and test splits.\n",
    "\n",
    "To further improve the model, we can do the following:\n",
    "* add more features\n",
    "* solve the label imbalance issue\n",
    "* use the `Downgrade` event to generate more `churn` labels\n",
    "* more hyper-parameter tuning (because some intervals used in cross-validation are hitting the lower or upper edges).\n",
    "* use XGBoost or LightGBM"
   ]
  }
 ],
 "metadata": {
  "kernelspec": {
   "display_name": "Python 3 (ipykernel)",
   "language": "python",
   "name": "python3"
  },
  "language_info": {
   "codemirror_mode": {
    "name": "ipython",
    "version": 3
   },
   "file_extension": ".py",
   "mimetype": "text/x-python",
   "name": "python",
   "nbconvert_exporter": "python",
   "pygments_lexer": "ipython3",
   "version": "3.9.2"
  }
 },
 "nbformat": 4,
 "nbformat_minor": 2
}
